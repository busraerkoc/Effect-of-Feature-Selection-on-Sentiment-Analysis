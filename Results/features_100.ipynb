{
 "cells": [
  {
   "cell_type": "code",
   "execution_count": 1,
   "metadata": {},
   "outputs": [
    {
     "name": "stdout",
     "output_type": "stream",
     "text": [
      "1    12207\n",
      "0     3225\n",
      "Name: label, dtype: int64\n",
      "1    6450\n",
      "0    3225\n",
      "Name: label, dtype: int64\n"
     ]
    }
   ],
   "source": [
    "from sklearn.feature_extraction.text import TfidfTransformer\n",
    "from sklearn.feature_extraction.text import TfidfVectorizer\n",
    "import pandas as pd\n",
    "import numpy as np\n",
    "from sklearn.model_selection import train_test_split\n",
    "from sklearn.naive_bayes import MultinomialNB\n",
    "from sklearn import metrics\n",
    "from sklearn.feature_extraction.text import CountVectorizer\n",
    "import csv\n",
    "from sklearn.feature_selection import SelectKBest, chi2, mutual_info_classif\n",
    "from sklearn.svm import SVC \n",
    "from sklearn.ensemble import RandomForestClassifier\n",
    "import matplotlib.pyplot as plt\n",
    "\n",
    "df = pd.read_csv('/input/preprocessed.csv')\n",
    "df.shape\n",
    "print(df.label.value_counts())\n",
    "\n",
    "pos_df=df.loc[df.label==1,:][:6450]\n",
    "neg_df=df.loc[df.label==0,:][:3225]\n",
    "df=pd.concat([pos_df,neg_df],ignore_index=True)\n",
    "df = df.sample(frac=1).reset_index(drop=True)\n",
    "df.head()\n",
    "print(df.label.value_counts())\n",
    "\n",
    "#Bag of Words\n",
    "def bow(train, test):\n",
    "    vectorizer = CountVectorizer(analyzer='word')\n",
    "    train_data = vectorizer.fit_transform(train)\n",
    "    test_data = vectorizer.transform(test)\n",
    "    feature_names = vectorizer.get_feature_names()\n",
    "    #print(feature_names)\n",
    "    return train_data, test_data, feature_names\n",
    "\n",
    "# Feature selection chi2 method\n",
    "def ch2(x_train, y_train, x_test, feature_names):\n",
    "    ch2 = SelectKBest(chi2, k=100)\n",
    "    x_train_features = ch2.fit_transform(x_train, y_train)\n",
    "    x_test_features = ch2.transform(x_test)\n",
    "    feature_indices = ch2.get_support(indices=True)\n",
    "    selected_features = [feature_names[i] for i in ch2.get_support(indices=True)]\n",
    "    return x_train_features, x_test_features, feature_indices, selected_features\n",
    "\n",
    "# Feature selection mutual_info_classif\n",
    "def mutual_info(x_train, y_train, x_test, feature_names):\n",
    "    mutual = SelectKBest(mutual_info_classif, k=100)\n",
    "    x_train_features = mutual.fit_transform(x_train, y_train)\n",
    "    x_test_features = mutual.transform(x_test)\n",
    "    feature_indices = mutual.get_support(indices=True)\n",
    "    selected_features = [feature_names[i] for i in mutual.get_support(indices=True)]\n",
    "    return x_train_features, x_test_features, feature_indices, selected_features\n",
    "\n",
    "#TFIDF VECTORIZATION\n",
    "def tfidf(train, test):\n",
    "    vectorizer = TfidfTransformer()\n",
    "    train_tfidf = vectorizer.fit_transform(train)\n",
    "    test_tfidf = vectorizer.transform(test)\n",
    "    return train_tfidf, test_tfidf    \n",
    "\n",
    "# NO FEATURE SELECTION\n",
    "def nofeatureselection(x_train, x_test, y_train):\n",
    "    #TFIDF\n",
    "    vectorizer = TfidfVectorizer(use_idf=True,\n",
    "                                 analyzer='word',\n",
    "                                 strip_accents='unicode')\n",
    "    tfidf_train = vectorizer.fit_transform(x_train)\n",
    "    tfidf_test = vectorizer.transform(x_test)\n",
    "    feature_names = vectorizer.get_feature_names()\n",
    "    feat = SelectKBest(k=100)\n",
    "    x_train_features = feat.fit_transform(tfidf_train, y_train)\n",
    "    x_test_features = feat.transform(tfidf_test)\n",
    "    feature_names = [feature_names[i] for i in feat.get_support(indices=True)]\n",
    "    return x_train_features, x_test_features, feature_names\n",
    "\n",
    "#MULTINOMIAL NAIVE BAYES\n",
    "def Multinomial(train_tfidf, y_train, test_tfidf, y_test):\n",
    "    model = MultinomialNB()\n",
    "    model.fit(train_tfidf, y_train)\n",
    "    expected = y_test\n",
    "    predicted = model.predict(test_tfidf)\n",
    "    print(metrics.classification_report(expected, predicted))\n",
    "    print(metrics.confusion_matrix(expected, predicted))\n",
    "    return expected, predicted\n",
    "\n",
    "def svm(train_tfidf, y_train, test_tfidf, y_test):\n",
    "    svc = SVC(kernel='linear', C = 1.0)\n",
    "    svc.fit(train_tfidf, y_train)\n",
    "    predicted = svc.predict(test_tfidf)\n",
    "    expected = y_test\n",
    "    print(metrics.classification_report(expected, predicted))\n",
    "    print(metrics.confusion_matrix(expected, predicted))\n",
    "    return expected, predicted\n",
    "\n",
    "def randomforest(train_tfidf, y_train, test_tfidf, y_test):\n",
    "    clf = RandomForestClassifier()\n",
    "    clf.fit(train_tfidf, y_train)\n",
    "    expected = y_test\n",
    "    predicted = clf.predict(test_tfidf)\n",
    "    print(metrics.classification_report(expected, predicted))\n",
    "    print(metrics.confusion_matrix(expected, predicted))\n",
    "    return expected, predicted\n",
    "\n",
    "def naivebayes_withfs(x_train, x_test, y_train, y_test):\n",
    "    # MULTINOMIAL NAIVE BAYES WITH FEATURE SELECTION\n",
    "    # Feature Extraction\n",
    "    x_train, x_test, feature_names = bow(x_train, x_test)\n",
    "    # Feature Selection\n",
    "    # Select best 50 features according to chi square score\n",
    "    x_train_features, x_test_features, feature_indices, selected_features = ch2(x_train, y_train, x_test, feature_names)\n",
    "    # TFIDF - Vecctorization\n",
    "    train_tfidf, test_tfidf = tfidf(x_train_features, x_test_features)\n",
    "    # Model - Multinomial Naive Bayes\n",
    "    print(\"Results of Multinomial Naive Bayes Classifier with Feature Selection\")\n",
    "    print(\"Features:\\n\", selected_features)\n",
    "    expectednb_wfs, predictednb_wfs = Multinomial(train_tfidf, y_train, test_tfidf, y_test)\n",
    "    return expectednb_wfs, predictednb_wfs\n",
    "\n",
    "def naivebayes_withfs2(x_train, x_test, y_train, y_test):\n",
    "    # MULTINOMIAL NAIVE BAYES WITH FEATURE SELECTION\n",
    "    # Feature Extraction\n",
    "    x_train, x_test, feature_names = bow(x_train, x_test)\n",
    "    # Feature Selection\n",
    "    # Select best 50 features according to chi square score\n",
    "    x_train_features, x_test_features, feature_indices, selected_features = mutual_info(x_train, y_train, x_test, feature_names)\n",
    "    # TFIDF - Vecctorization\n",
    "    train_tfidf, test_tfidf = tfidf(x_train_features, x_test_features)\n",
    "    # Model - Multinomial Naive Bayes\n",
    "    print(\"Results of Multinomial Naive Bayes Classifier with Feature Selection\")\n",
    "    print(\"Features:\\n\", selected_features)\n",
    "    expectednb_wfs, predictednb_wfs = Multinomial(train_tfidf, y_train, test_tfidf, y_test)\n",
    "    return expectednb_wfs, predictednb_wfs\n",
    "\n",
    "def naivebayes_nfs(x_train, x_test, y_train, y_test):\n",
    "    # MULTIONAMIAL NAIVE BAYES WITHOUT FEATURE SELECTION\n",
    "    x_train_features, x_test_features, feature_names = nofeatureselection(x_train, x_test, y_train)\n",
    "    # Model - Multinomial Naive Bayes\n",
    "    print(\"Results of Multinomial Naive Bayes Classifier without Feature Selection\")\n",
    "    print(\"Features:\\n\", feature_names)\n",
    "    expectednb_nfs, predictednb_nfs = Multinomial(x_train_features, y_train, x_test_features, y_test)\n",
    "    return expectednb_nfs, predictednb_nfs\n",
    "\n",
    "\n",
    "def svm_wfs(x_train, x_test, y_train, y_test):\n",
    "    # SVM WITH FEATURE SELECTION\n",
    "    # Feature Extraction\n",
    "    x_train, x_test, feature_names = bow(x_train, x_test)\n",
    "    # Feature Selection\n",
    "    # Select best 50 features according to chi square score\n",
    "    x_train_features, x_test_features, feature_indices, selected_features = ch2(x_train, y_train, x_test, feature_names)\n",
    "    # TFIDF - Vecctorization\n",
    "    train_tfidf, test_tfidf = tfidf(x_train_features, x_test_features)\n",
    "    # Model - SVM\n",
    "    print(\"Results of SVM with Feature Selection\")\n",
    "    print(\"Features:\\n\", selected_features)\n",
    "    expectedsvm_wfs, predictedsvm_wfs = svm(train_tfidf, y_train, test_tfidf, y_test)\n",
    "    return expectedsvm_wfs, predictedsvm_wfs\n",
    "\n",
    "def svm_wfs2(x_train, x_test, y_train, y_test):\n",
    "    # SVM WITH FEATURE SELECTION\n",
    "    # Feature Extraction\n",
    "    x_train, x_test, feature_names = bow(x_train, x_test)\n",
    "    # Feature Selection\n",
    "    # Select best 50 features according to chi square score\n",
    "    x_train_features, x_test_features, feature_indices, selected_features = mutual_info(x_train, y_train, x_test, feature_names)\n",
    "    # TFIDF - Vecctorization\n",
    "    train_tfidf, test_tfidf = tfidf(x_train_features, x_test_features)\n",
    "    # Model - SVM\n",
    "    print(\"Results of SVM with Feature Selection\")\n",
    "    print(\"Features:\\n\", selected_features)\n",
    "    expectedsvm_wfs, predictedsvm_wfs = svm(train_tfidf, y_train, test_tfidf, y_test)\n",
    "    return expectedsvm_wfs, predictedsvm_wfs\n",
    "\n",
    "def svm_nfs(x_train, x_test, y_train, y_test):\n",
    "    # SVM WITHOUT FEATURE SELECTION\n",
    "    x_train_features, x_test_features, feature_names = nofeatureselection(x_train, x_test, y_train)\n",
    "    # Model - SVM\n",
    "    print(\"Results of SVM Classifier without Feature Selection\")\n",
    "    print(\"Features:\\n\", feature_names)\n",
    "    expectedsvm_nfs, predictedsvm_nfs = svm(x_train_features, y_train, x_test_features, y_test)\n",
    "    return expectedsvm_nfs, predictedsvm_nfs\n",
    "\n",
    "# RANDOM FOREST CLASSIFIER WITH FEATURE SELECTION - CHI SQUARE\n",
    "def rf_wfs(x_train, x_test, y_train, y_test):\n",
    "    # RANDOM FOREST WITH FEATURE SELECTION\n",
    "    # Feature Extraction\n",
    "    x_train, x_test, feature_names = bow(x_train, x_test)\n",
    "    # Feature Selection\n",
    "    # Select best 50 features according to chi square score\n",
    "    x_train_features, x_test_features, feature_indices, selected_features = ch2(x_train, y_train, x_test, feature_names)\n",
    "    # TFIDF - Vecctorization\n",
    "    train_tfidf, test_tfidf = tfidf(x_train_features, x_test_features)\n",
    "    # Model - Random Forest Classifier\n",
    "    print(\"Results of Random Forest Classifier with chi2 Feature Selection\")\n",
    "    print(\"Features:\\n\", selected_features)\n",
    "    expectedrf_wfs, predictedrf_wfs = randomforest(train_tfidf, y_train, test_tfidf, y_test)\n",
    "    return expectedrf_wfs, predictedrf_wfs\n",
    "\n",
    "# RANDOM FOREST CLASSIFIER WITH FEATURE SELECTION -- MUTUAL INFO\n",
    "def rf_wfs2(x_train, x_test, y_train, y_test):\n",
    "    # RANDOM FOREST WITH FEATURE SELECTION\n",
    "    # Feature Extraction\n",
    "    x_train, x_test, feature_names = bow(x_train, x_test)\n",
    "    # Feature Selection\n",
    "    # Select best 50 features according to chi square score\n",
    "    x_train_features, x_test_features, feature_indices, selected_features = mutual_info(x_train, y_train, x_test, feature_names)\n",
    "    # TFIDF - Vecctorization\n",
    "    train_tfidf, test_tfidf = tfidf(x_train_features, x_test_features)\n",
    "    # Model - Random Forest Classifier\n",
    "    print(\"Results of Random Forest Classifier with chi2 Feature Selection\")\n",
    "    print(\"Features:\\n\", selected_features)\n",
    "    expectedrf_wfs, predictedrf_wfs = randomforest(train_tfidf, y_train, test_tfidf, y_test)\n",
    "    return expectedrf_wfs, predictedrf_wfs\n",
    "\n",
    "# RANDOM FOREST WITHOUT FEATURE SELECTION\n",
    "def rf_nfs(x_train, x_test, y_train, y_test):\n",
    "    # RANDOM FOREST WITHOUT FEATURE SELECTION\n",
    "    x_train_features, x_test_features, feature_names = nofeatureselection(x_train, x_test, y_train)\n",
    "    # Model - RANDOM FOREST\n",
    "    print(\"Results of SVM Classifier without Feature Selection\")\n",
    "    print(\"Features:\\n\", feature_names)\n",
    "    expectedrf_nfs, predictedrf_nfs = randomforest(x_train_features, y_train, x_test_features, y_test)\n",
    "    return expectedrf_nfs, predictedrf_nfs\n",
    "\n",
    "x = df['content']\n",
    "y = df['label']\n",
    "\n",
    "x_train, x_test, y_train, y_test = train_test_split(x, y, train_size = 0.80, test_size=0.20, random_state=42)\n"
   ]
  },
  {
   "cell_type": "code",
   "execution_count": 2,
   "metadata": {},
   "outputs": [
    {
     "name": "stdout",
     "output_type": "stream",
     "text": [
      "Results of Multinomial Naive Bayes Classifier with Feature Selection\n",
      "Features:\n",
      " ['air', 'amaze', 'another', 'avoid', 'awful', 'bad', 'beautiful', 'bed', 'book', 'break', 'bug', 'call', 'card', 'carpet', 'change', 'charge', 'check', 'com', 'come', 'comfortable', 'complain', 'condition', 'could', 'curtain', 'dirty', 'disappoint', 'disgust', 'door', 'email', 'even', 'excellent', 'filthy', 'first', 'floor', 'friendly', 'give', 'great', 'guests', 'hear', 'helpful', 'horrible', 'key', 'know', 'leave', 'like', 'lock', 'look', 'lovely', 'manager', 'money', 'move', 'never', 'nice', 'night', 'noise', 'nothing', 'old', 'one', 'open', 'paper', 'pay', 'people', 'perfect', 'phone', 'picture', 'pm', 'poor', 'put', 'quiet', 'reception', 'receptionist', 'refund', 'refuse', 'restaurants', 'room', 'rude', 'seem', 'sheet', 'shower', 'sleep', 'smell', 'smoke', 'someone', 'stain', 'star', 'terrible', 'think', 'tiny', 'toilet', 'towel', 'try', 'us', 'view', 'wait', 'wall', 'water', 'window', 'work', 'worse', 'worst']\n",
      "              precision    recall  f1-score   support\n",
      "\n",
      "           0       0.87      0.83      0.85       624\n",
      "           1       0.92      0.94      0.93      1311\n",
      "\n",
      "    accuracy                           0.91      1935\n",
      "   macro avg       0.90      0.89      0.89      1935\n",
      "weighted avg       0.91      0.91      0.91      1935\n",
      "\n",
      "[[ 516  108]\n",
      " [  74 1237]]\n"
     ]
    }
   ],
   "source": [
    "# MULTINOMIAL NAIVE BAYES WITH FEATURE SELECTION - CHI SQUARE\n",
    "expectednb_wfs, predictednb_wfs = naivebayes_withfs(x_train, x_test, y_train, y_test)"
   ]
  },
  {
   "cell_type": "code",
   "execution_count": 3,
   "metadata": {},
   "outputs": [
    {
     "name": "stdout",
     "output_type": "stream",
     "text": [
      "Results of Multinomial Naive Bayes Classifier with Feature Selection\n",
      "Features:\n",
      " ['air', 'amaze', 'another', 'avoid', 'awful', 'bad', 'beautiful', 'bed', 'book', 'break', 'breakfast', 'call', 'canal', 'carpet', 'charge', 'check', 'clean', 'come', 'comfortable', 'complain', 'could', 'delicious', 'dirty', 'disgust', 'distance', 'door', 'easy', 'enjoy', 'even', 'excellent', 'fantastic', 'filthy', 'first', 'floor', 'friendly', 'give', 'great', 'helpful', 'highly', 'horrible', 'key', 'leave', 'like', 'location', 'lock', 'look', 'love', 'lovely', 'manager', 'modern', 'money', 'move', 'never', 'nice', 'night', 'nothing', 'old', 'one', 'open', 'paper', 'pay', 'people', 'perfect', 'picture', 'poor', 'put', 'quiet', 'reception', 'receptionist', 'refund', 'refuse', 'restaurants', 'room', 'rude', 'seem', 'sheet', 'shop', 'shower', 'sleep', 'smell', 'someone', 'spa', 'spacious', 'staff', 'stain', 'star', 'terrible', 'thank', 'tiny', 'toilet', 'towel', 'view', 'wait', 'walk', 'wall', 'water', 'wonderful', 'work', 'worse', 'worst']\n",
      "              precision    recall  f1-score   support\n",
      "\n",
      "           0       0.89      0.84      0.86       624\n",
      "           1       0.92      0.95      0.94      1311\n",
      "\n",
      "    accuracy                           0.91      1935\n",
      "   macro avg       0.91      0.89      0.90      1935\n",
      "weighted avg       0.91      0.91      0.91      1935\n",
      "\n",
      "[[ 522  102]\n",
      " [  64 1247]]\n"
     ]
    }
   ],
   "source": [
    "# MULTINOMIAL NAIVE BAYES WITH FEATURE SELECTION - MUTUAL INFO\n",
    "expectednb_wfs, predictednb_wfs = naivebayes_withfs2(x_train, x_test, y_train, y_test)"
   ]
  },
  {
   "cell_type": "code",
   "execution_count": 4,
   "metadata": {},
   "outputs": [
    {
     "name": "stdout",
     "output_type": "stream",
     "text": [
      "Results of Multinomial Naive Bayes Classifier without Feature Selection\n",
      "Features:\n",
      " ['air', 'amaze', 'another', 'avoid', 'awful', 'bad', 'bar', 'beautiful', 'best', 'book', 'break', 'breakfast', 'buffet', 'call', 'canal', 'carpet', 'charge', 'city', 'clean', 'comfortable', 'complain', 'curtain', 'definitely', 'dirty', 'disgust', 'distance', 'door', 'easy', 'enjoy', 'even', 'excellent', 'fantastic', 'filthy', 'food', 'friendly', 'give', 'good', 'great', 'helpful', 'highly', 'horrible', 'leave', 'locate', 'location', 'lock', 'look', 'loud', 'love', 'lovely', 'modern', 'move', 'never', 'nice', 'night', 'old', 'open', 'paper', 'pay', 'perfect', 'picture', 'poor', 'put', 'quiet', 'receptionist', 'recommend', 'refund', 'refuse', 'restaurant', 'restaurants', 'room', 'rude', 'seem', 'sheet', 'shop', 'sleep', 'smell', 'someone', 'spacious', 'staff', 'stain', 'star', 'station', 'terrible', 'thank', 'tiny', 'toilet', 'towel', 'unfriendly', 'unhelpful', 'view', 'visit', 'walk', 'wall', 'water', 'website', 'well', 'wonderful', 'work', 'worse', 'worst']\n",
      "              precision    recall  f1-score   support\n",
      "\n",
      "           0       0.98      0.59      0.74       624\n",
      "           1       0.84      0.99      0.91      1311\n",
      "\n",
      "    accuracy                           0.87      1935\n",
      "   macro avg       0.91      0.79      0.82      1935\n",
      "weighted avg       0.88      0.87      0.85      1935\n",
      "\n",
      "[[ 371  253]\n",
      " [   8 1303]]\n"
     ]
    }
   ],
   "source": [
    "# MULTIONAMIAL NAIVE BAYES WITHOUT FEATURE SELECTION\n",
    "expectednb_nfs, predictednb_nfs = naivebayes_nfs(x_train, x_test, y_train, y_test)"
   ]
  },
  {
   "cell_type": "code",
   "execution_count": 5,
   "metadata": {},
   "outputs": [
    {
     "name": "stdout",
     "output_type": "stream",
     "text": [
      "Results of SVM with Feature Selection\n",
      "Features:\n",
      " ['air', 'amaze', 'another', 'avoid', 'awful', 'bad', 'beautiful', 'bed', 'book', 'break', 'bug', 'call', 'card', 'carpet', 'change', 'charge', 'check', 'com', 'come', 'comfortable', 'complain', 'condition', 'could', 'curtain', 'dirty', 'disappoint', 'disgust', 'door', 'email', 'even', 'excellent', 'filthy', 'first', 'floor', 'friendly', 'give', 'great', 'guests', 'hear', 'helpful', 'horrible', 'key', 'know', 'leave', 'like', 'lock', 'look', 'lovely', 'manager', 'money', 'move', 'never', 'nice', 'night', 'noise', 'nothing', 'old', 'one', 'open', 'paper', 'pay', 'people', 'perfect', 'phone', 'picture', 'pm', 'poor', 'put', 'quiet', 'reception', 'receptionist', 'refund', 'refuse', 'restaurants', 'room', 'rude', 'seem', 'sheet', 'shower', 'sleep', 'smell', 'smoke', 'someone', 'stain', 'star', 'terrible', 'think', 'tiny', 'toilet', 'towel', 'try', 'us', 'view', 'wait', 'wall', 'water', 'window', 'work', 'worse', 'worst']\n",
      "              precision    recall  f1-score   support\n",
      "\n",
      "           0       0.85      0.85      0.85       624\n",
      "           1       0.93      0.93      0.93      1311\n",
      "\n",
      "    accuracy                           0.90      1935\n",
      "   macro avg       0.89      0.89      0.89      1935\n",
      "weighted avg       0.90      0.90      0.90      1935\n",
      "\n",
      "[[ 532   92]\n",
      " [  97 1214]]\n"
     ]
    }
   ],
   "source": [
    "# SVM WITH FEATURE SELECTION - CHI SQUARE\n",
    "expectedsvm_wfs, predictedsvm_wfs = svm_wfs(x_train, x_test, y_train, y_test)"
   ]
  },
  {
   "cell_type": "code",
   "execution_count": 6,
   "metadata": {},
   "outputs": [
    {
     "name": "stdout",
     "output_type": "stream",
     "text": [
      "Results of SVM with Feature Selection\n",
      "Features:\n",
      " ['air', 'amaze', 'another', 'avoid', 'awful', 'bad', 'beautiful', 'bed', 'book', 'break', 'breakfast', 'call', 'canal', 'carpet', 'charge', 'check', 'clean', 'come', 'comfortable', 'complain', 'could', 'delicious', 'dirty', 'disgust', 'distance', 'door', 'easy', 'enjoy', 'even', 'excellent', 'fantastic', 'filthy', 'first', 'floor', 'friendly', 'give', 'great', 'helpful', 'highly', 'horrible', 'key', 'leave', 'like', 'location', 'lock', 'look', 'love', 'lovely', 'manager', 'modern', 'money', 'move', 'never', 'nice', 'night', 'nothing', 'old', 'one', 'open', 'paper', 'pay', 'people', 'perfect', 'picture', 'poor', 'put', 'quiet', 'reception', 'receptionist', 'refund', 'refuse', 'restaurants', 'room', 'rude', 'seem', 'sheet', 'shop', 'shower', 'sleep', 'smell', 'someone', 'spa', 'spacious', 'staff', 'stain', 'star', 'terrible', 'thank', 'tiny', 'toilet', 'towel', 'view', 'wait', 'walk', 'wall', 'water', 'wonderful', 'work', 'worse', 'worst']\n",
      "              precision    recall  f1-score   support\n",
      "\n",
      "           0       0.89      0.86      0.87       624\n",
      "           1       0.93      0.95      0.94      1311\n",
      "\n",
      "    accuracy                           0.92      1935\n",
      "   macro avg       0.91      0.90      0.91      1935\n",
      "weighted avg       0.92      0.92      0.92      1935\n",
      "\n",
      "[[ 536   88]\n",
      " [  68 1243]]\n"
     ]
    }
   ],
   "source": [
    "# SVM WITH FEATURE SELECTION - MUTUAL INFO\n",
    "expectedsvm_wfs, predictedsvm_wfs = svm_wfs2(x_train, x_test, y_train, y_test)"
   ]
  },
  {
   "cell_type": "code",
   "execution_count": 7,
   "metadata": {},
   "outputs": [
    {
     "name": "stdout",
     "output_type": "stream",
     "text": [
      "Results of SVM Classifier without Feature Selection\n",
      "Features:\n",
      " ['air', 'amaze', 'another', 'avoid', 'awful', 'bad', 'bar', 'beautiful', 'best', 'book', 'break', 'breakfast', 'buffet', 'call', 'canal', 'carpet', 'charge', 'city', 'clean', 'comfortable', 'complain', 'curtain', 'definitely', 'dirty', 'disgust', 'distance', 'door', 'easy', 'enjoy', 'even', 'excellent', 'fantastic', 'filthy', 'food', 'friendly', 'give', 'good', 'great', 'helpful', 'highly', 'horrible', 'leave', 'locate', 'location', 'lock', 'look', 'loud', 'love', 'lovely', 'modern', 'move', 'never', 'nice', 'night', 'old', 'open', 'paper', 'pay', 'perfect', 'picture', 'poor', 'put', 'quiet', 'receptionist', 'recommend', 'refund', 'refuse', 'restaurant', 'restaurants', 'room', 'rude', 'seem', 'sheet', 'shop', 'sleep', 'smell', 'someone', 'spacious', 'staff', 'stain', 'star', 'station', 'terrible', 'thank', 'tiny', 'toilet', 'towel', 'unfriendly', 'unhelpful', 'view', 'visit', 'walk', 'wall', 'water', 'website', 'well', 'wonderful', 'work', 'worse', 'worst']\n",
      "              precision    recall  f1-score   support\n",
      "\n",
      "           0       0.89      0.85      0.87       624\n",
      "           1       0.93      0.95      0.94      1311\n",
      "\n",
      "    accuracy                           0.92      1935\n",
      "   macro avg       0.91      0.90      0.90      1935\n",
      "weighted avg       0.92      0.92      0.92      1935\n",
      "\n",
      "[[ 530   94]\n",
      " [  66 1245]]\n"
     ]
    }
   ],
   "source": [
    "# SVM WITHOUT FEATURE SELECTION\n",
    "expectedsvm_nfs, predictedsvm_nfs = svm_nfs(x_train, x_test, y_train, y_test)"
   ]
  },
  {
   "cell_type": "code",
   "execution_count": 8,
   "metadata": {},
   "outputs": [
    {
     "name": "stdout",
     "output_type": "stream",
     "text": [
      "Results of Random Forest Classifier with chi2 Feature Selection\n",
      "Features:\n",
      " ['air', 'amaze', 'another', 'avoid', 'awful', 'bad', 'beautiful', 'bed', 'book', 'break', 'bug', 'call', 'card', 'carpet', 'change', 'charge', 'check', 'com', 'come', 'comfortable', 'complain', 'condition', 'could', 'curtain', 'dirty', 'disappoint', 'disgust', 'door', 'email', 'even', 'excellent', 'filthy', 'first', 'floor', 'friendly', 'give', 'great', 'guests', 'hear', 'helpful', 'horrible', 'key', 'know', 'leave', 'like', 'lock', 'look', 'lovely', 'manager', 'money', 'move', 'never', 'nice', 'night', 'noise', 'nothing', 'old', 'one', 'open', 'paper', 'pay', 'people', 'perfect', 'phone', 'picture', 'pm', 'poor', 'put', 'quiet', 'reception', 'receptionist', 'refund', 'refuse', 'restaurants', 'room', 'rude', 'seem', 'sheet', 'shower', 'sleep', 'smell', 'smoke', 'someone', 'stain', 'star', 'terrible', 'think', 'tiny', 'toilet', 'towel', 'try', 'us', 'view', 'wait', 'wall', 'water', 'window', 'work', 'worse', 'worst']\n",
      "              precision    recall  f1-score   support\n",
      "\n",
      "           0       0.87      0.82      0.84       624\n",
      "           1       0.92      0.94      0.93      1311\n",
      "\n",
      "    accuracy                           0.90      1935\n",
      "   macro avg       0.89      0.88      0.88      1935\n",
      "weighted avg       0.90      0.90      0.90      1935\n",
      "\n",
      "[[ 511  113]\n",
      " [  79 1232]]\n"
     ]
    }
   ],
   "source": [
    "# RANDOM FOREST CLASSIFIER WITH FEATURE SELECTION - CHI SQUARE\n",
    "expectedrf_wfs, predictedrf_wfs = rf_wfs(x_train, x_test, y_train, y_test)"
   ]
  },
  {
   "cell_type": "code",
   "execution_count": 9,
   "metadata": {},
   "outputs": [
    {
     "name": "stdout",
     "output_type": "stream",
     "text": [
      "Results of Random Forest Classifier with chi2 Feature Selection\n",
      "Features:\n",
      " ['air', 'amaze', 'another', 'avoid', 'awful', 'bad', 'beautiful', 'bed', 'book', 'break', 'breakfast', 'call', 'canal', 'carpet', 'charge', 'check', 'clean', 'come', 'comfortable', 'complain', 'could', 'delicious', 'dirty', 'disgust', 'distance', 'door', 'easy', 'enjoy', 'even', 'excellent', 'fantastic', 'filthy', 'first', 'floor', 'friendly', 'give', 'great', 'helpful', 'highly', 'horrible', 'key', 'leave', 'like', 'location', 'lock', 'look', 'love', 'lovely', 'manager', 'modern', 'money', 'move', 'never', 'nice', 'night', 'nothing', 'old', 'one', 'open', 'paper', 'pay', 'people', 'perfect', 'picture', 'poor', 'put', 'quiet', 'reception', 'receptionist', 'refund', 'refuse', 'restaurants', 'room', 'rude', 'seem', 'sheet', 'shop', 'shower', 'sleep', 'smell', 'someone', 'spa', 'spacious', 'staff', 'stain', 'star', 'terrible', 'thank', 'tiny', 'toilet', 'towel', 'view', 'wait', 'walk', 'wall', 'water', 'wonderful', 'work', 'worse', 'worst']\n",
      "              precision    recall  f1-score   support\n",
      "\n",
      "           0       0.91      0.79      0.84       624\n",
      "           1       0.91      0.96      0.93      1311\n",
      "\n",
      "    accuracy                           0.91      1935\n",
      "   macro avg       0.91      0.88      0.89      1935\n",
      "weighted avg       0.91      0.91      0.90      1935\n",
      "\n",
      "[[ 493  131]\n",
      " [  51 1260]]\n"
     ]
    }
   ],
   "source": [
    "# RANDOM FOREST CLASSIFIER WITH FEATURE SELECTION - MUTUAL INFO\n",
    "expectedrf_wfs, predictedrf_wfs = rf_wfs2(x_train, x_test, y_train, y_test)"
   ]
  },
  {
   "cell_type": "code",
   "execution_count": 10,
   "metadata": {},
   "outputs": [
    {
     "name": "stdout",
     "output_type": "stream",
     "text": [
      "Results of SVM Classifier without Feature Selection\n",
      "Features:\n",
      " ['air', 'amaze', 'another', 'avoid', 'awful', 'bad', 'bar', 'beautiful', 'best', 'book', 'break', 'breakfast', 'buffet', 'call', 'canal', 'carpet', 'charge', 'city', 'clean', 'comfortable', 'complain', 'curtain', 'definitely', 'dirty', 'disgust', 'distance', 'door', 'easy', 'enjoy', 'even', 'excellent', 'fantastic', 'filthy', 'food', 'friendly', 'give', 'good', 'great', 'helpful', 'highly', 'horrible', 'leave', 'locate', 'location', 'lock', 'look', 'loud', 'love', 'lovely', 'modern', 'move', 'never', 'nice', 'night', 'old', 'open', 'paper', 'pay', 'perfect', 'picture', 'poor', 'put', 'quiet', 'receptionist', 'recommend', 'refund', 'refuse', 'restaurant', 'restaurants', 'room', 'rude', 'seem', 'sheet', 'shop', 'sleep', 'smell', 'someone', 'spacious', 'staff', 'stain', 'star', 'station', 'terrible', 'thank', 'tiny', 'toilet', 'towel', 'unfriendly', 'unhelpful', 'view', 'visit', 'walk', 'wall', 'water', 'website', 'well', 'wonderful', 'work', 'worse', 'worst']\n",
      "              precision    recall  f1-score   support\n",
      "\n",
      "           0       0.90      0.80      0.85       624\n",
      "           1       0.91      0.96      0.93      1311\n",
      "\n",
      "    accuracy                           0.91      1935\n",
      "   macro avg       0.91      0.88      0.89      1935\n",
      "weighted avg       0.91      0.91      0.91      1935\n",
      "\n",
      "[[ 501  123]\n",
      " [  53 1258]]\n"
     ]
    }
   ],
   "source": [
    "# RANDOM FOREST CLASSIFIER WITHOUT FEATURE SELECTION \n",
    "expectedrf_nfs, predictedrf_nfs = rf_nfs(x_train, x_test, y_train, y_test)"
   ]
  },
  {
   "cell_type": "code",
   "execution_count": null,
   "metadata": {},
   "outputs": [],
   "source": []
  },
  {
   "cell_type": "code",
   "execution_count": null,
   "metadata": {},
   "outputs": [],
   "source": []
  }
 ],
 "metadata": {
  "kernelspec": {
   "display_name": "Python 3",
   "language": "python",
   "name": "python3"
  },
  "language_info": {
   "codemirror_mode": {
    "name": "ipython",
    "version": 3
   },
   "file_extension": ".py",
   "mimetype": "text/x-python",
   "name": "python",
   "nbconvert_exporter": "python",
   "pygments_lexer": "ipython3",
   "version": "3.8.3"
  }
 },
 "nbformat": 4,
 "nbformat_minor": 4
}
