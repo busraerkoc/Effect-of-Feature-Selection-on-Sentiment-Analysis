{
 "cells": [
  {
   "cell_type": "code",
   "execution_count": 18,
   "metadata": {},
   "outputs": [
    {
     "name": "stdout",
     "output_type": "stream",
     "text": [
      "1    12207\n",
      "0     3225\n",
      "Name: label, dtype: int64\n",
      "1    6450\n",
      "0    3225\n",
      "Name: label, dtype: int64\n"
     ]
    }
   ],
   "source": [
    "from sklearn.feature_extraction.text import TfidfTransformer\n",
    "from sklearn.feature_extraction.text import TfidfVectorizer\n",
    "import pandas as pd\n",
    "import numpy as np\n",
    "from sklearn.model_selection import train_test_split\n",
    "from sklearn.naive_bayes import MultinomialNB\n",
    "from sklearn import metrics\n",
    "from sklearn.feature_extraction.text import CountVectorizer\n",
    "import csv\n",
    "from sklearn.feature_selection import SelectKBest, chi2, mutual_info_classif\n",
    "from sklearn.svm import SVC \n",
    "from sklearn.ensemble import RandomForestClassifier\n",
    "import matplotlib.pyplot as plt\n",
    "\n",
    "df = pd.read_csv('/input/preprocessed.csv')\n",
    "df.shape\n",
    "print(df.label.value_counts())\n",
    "\n",
    "pos_df=df.loc[df.label==1,:][:6450]\n",
    "neg_df=df.loc[df.label==0,:][:3225]\n",
    "df=pd.concat([pos_df,neg_df],ignore_index=True)\n",
    "df = df.sample(frac=1).reset_index(drop=True)\n",
    "df.head()\n",
    "print(df.label.value_counts())\n",
    "\n",
    "#Bag of Words\n",
    "def bow(train, test):\n",
    "    vectorizer = CountVectorizer(analyzer='word')\n",
    "    train_data = vectorizer.fit_transform(train)\n",
    "    test_data = vectorizer.transform(test)\n",
    "    feature_names = vectorizer.get_feature_names()\n",
    "    #print(feature_names)\n",
    "    return train_data, test_data, feature_names\n",
    "\n",
    "# Feature selection chi2 method\n",
    "def ch2(x_train, y_train, x_test, feature_names):\n",
    "    ch2 = SelectKBest(chi2, k=10)\n",
    "    x_train_features = ch2.fit_transform(x_train, y_train)\n",
    "    x_test_features = ch2.transform(x_test)\n",
    "    feature_indices = ch2.get_support(indices=True)\n",
    "    selected_features = [feature_names[i] for i in ch2.get_support(indices=True)]\n",
    "    return x_train_features, x_test_features, feature_indices, selected_features\n",
    "\n",
    "# Feature selection mutual_info_classif\n",
    "def mutual_info(x_train, y_train, x_test, feature_names):\n",
    "    mutual = SelectKBest(mutual_info_classif, k=10)\n",
    "    x_train_features = mutual.fit_transform(x_train, y_train)\n",
    "    x_test_features = mutual.transform(x_test)\n",
    "    feature_indices = mutual.get_support(indices=True)\n",
    "    selected_features = [feature_names[i] for i in mutual.get_support(indices=True)]\n",
    "    return x_train_features, x_test_features, feature_indices, selected_features\n",
    "\n",
    "#TFIDF VECTORIZATION\n",
    "def tfidf(train, test):\n",
    "    vectorizer = TfidfTransformer()\n",
    "    train_tfidf = vectorizer.fit_transform(train)\n",
    "    test_tfidf = vectorizer.transform(test)\n",
    "    return train_tfidf, test_tfidf    \n",
    "\n",
    "# NO FEATURE SELECTION\n",
    "def nofeatureselection(x_train, x_test, y_train):\n",
    "    #TFIDF\n",
    "    vectorizer = TfidfVectorizer(use_idf=True,\n",
    "                                 analyzer='word',\n",
    "                                 strip_accents='unicode')\n",
    "    tfidf_train = vectorizer.fit_transform(x_train)\n",
    "    tfidf_test = vectorizer.transform(x_test)\n",
    "    feature_names = vectorizer.get_feature_names()\n",
    "    feat = SelectKBest(k=10)\n",
    "    x_train_features = feat.fit_transform(tfidf_train, y_train)\n",
    "    x_test_features = feat.transform(tfidf_test)\n",
    "    feature_names = [feature_names[i] for i in feat.get_support(indices=True)]\n",
    "    return x_train_features, x_test_features, feature_names\n",
    "\n",
    "#MULTINOMIAL NAIVE BAYES\n",
    "def Multinomial(train_tfidf, y_train, test_tfidf, y_test):\n",
    "    model = MultinomialNB()\n",
    "    model.fit(train_tfidf, y_train)\n",
    "    expected = y_test\n",
    "    predicted = model.predict(test_tfidf)\n",
    "    print(metrics.classification_report(expected, predicted))\n",
    "    print(metrics.confusion_matrix(expected, predicted))\n",
    "    return expected, predicted\n",
    "\n",
    "def svm(train_tfidf, y_train, test_tfidf, y_test):\n",
    "    svc = SVC(kernel='linear', C = 1.0)\n",
    "    svc.fit(train_tfidf, y_train)\n",
    "    predicted = svc.predict(test_tfidf)\n",
    "    expected = y_test\n",
    "    print(metrics.classification_report(expected, predicted))\n",
    "    print(metrics.confusion_matrix(expected, predicted))\n",
    "    return expected, predicted\n",
    "\n",
    "def randomforest(train_tfidf, y_train, test_tfidf, y_test):\n",
    "    clf = RandomForestClassifier()\n",
    "    clf.fit(train_tfidf, y_train)\n",
    "    expected = y_test\n",
    "    predicted = clf.predict(test_tfidf)\n",
    "    print(metrics.classification_report(expected, predicted))\n",
    "    print(metrics.confusion_matrix(expected, predicted))\n",
    "    return expected, predicted\n",
    "\n",
    "def naivebayes_withfs(x_train, x_test, y_train, y_test):\n",
    "    # MULTINOMIAL NAIVE BAYES WITH FEATURE SELECTION\n",
    "    # Feature Extraction\n",
    "    x_train, x_test, feature_names = bow(x_train, x_test)\n",
    "    # Feature Selection\n",
    "    # Select best 50 features according to chi square score\n",
    "    x_train_features, x_test_features, feature_indices, selected_features = ch2(x_train, y_train, x_test, feature_names)\n",
    "    # TFIDF - Vecctorization\n",
    "    train_tfidf, test_tfidf = tfidf(x_train_features, x_test_features)\n",
    "    # Model - Multinomial Naive Bayes\n",
    "    print(\"Results of Multinomial Naive Bayes Classifier with Feature Selection\")\n",
    "    print(\"Features:\\n\", selected_features)\n",
    "    expectednb_wfs, predictednb_wfs = Multinomial(train_tfidf, y_train, test_tfidf, y_test)\n",
    "    return expectednb_wfs, predictednb_wfs\n",
    "\n",
    "def naivebayes_withfs2(x_train, x_test, y_train, y_test):\n",
    "    # MULTINOMIAL NAIVE BAYES WITH FEATURE SELECTION\n",
    "    # Feature Extraction\n",
    "    x_train, x_test, feature_names = bow(x_train, x_test)\n",
    "    # Feature Selection\n",
    "    # Select best 50 features according to chi square score\n",
    "    x_train_features, x_test_features, feature_indices, selected_features = mutual_info(x_train, y_train, x_test, feature_names)\n",
    "    # TFIDF - Vecctorization\n",
    "    train_tfidf, test_tfidf = tfidf(x_train_features, x_test_features)\n",
    "    # Model - Multinomial Naive Bayes\n",
    "    print(\"Results of Multinomial Naive Bayes Classifier with Feature Selection\")\n",
    "    print(\"Features:\\n\", selected_features)\n",
    "    expectednb_wfs, predictednb_wfs = Multinomial(train_tfidf, y_train, test_tfidf, y_test)\n",
    "    return expectednb_wfs, predictednb_wfs\n",
    "\n",
    "def naivebayes_nfs(x_train, x_test, y_train, y_test):\n",
    "    # MULTIONAMIAL NAIVE BAYES WITHOUT FEATURE SELECTION\n",
    "    x_train_features, x_test_features, feature_names = nofeatureselection(x_train, x_test, y_train)\n",
    "    # Model - Multinomial Naive Bayes\n",
    "    print(\"Results of Multinomial Naive Bayes Classifier without Feature Selection\")\n",
    "    print(\"Features:\\n\", feature_names)\n",
    "    expectednb_nfs, predictednb_nfs = Multinomial(x_train_features, y_train, x_test_features, y_test)\n",
    "    return expectednb_nfs, predictednb_nfs\n",
    "\n",
    "def svm_wfs(x_train, x_test, y_train, y_test):\n",
    "    # SVM WITH FEATURE SELECTION\n",
    "    # Feature Extraction\n",
    "    x_train, x_test, feature_names = bow(x_train, x_test)\n",
    "    # Feature Selection\n",
    "    # Select best 50 features according to chi square score\n",
    "    x_train_features, x_test_features, feature_indices, selected_features = ch2(x_train, y_train, x_test, feature_names)\n",
    "    # TFIDF - Vecctorization\n",
    "    train_tfidf, test_tfidf = tfidf(x_train_features, x_test_features)\n",
    "    # Model - SVM\n",
    "    print(\"Results of SVM with Feature Selection\")\n",
    "    print(\"Features:\\n\", selected_features)\n",
    "    expectedsvm_wfs, predictedsvm_wfs = svm(train_tfidf, y_train, test_tfidf, y_test)\n",
    "    return expectedsvm_wfs, predictedsvm_wfs\n",
    "\n",
    "def svm_wfs2(x_train, x_test, y_train, y_test):\n",
    "    # SVM WITH FEATURE SELECTION\n",
    "    # Feature Extraction\n",
    "    x_train, x_test, feature_names = bow(x_train, x_test)\n",
    "    # Feature Selection\n",
    "    # Select best 50 features according to chi square score\n",
    "    x_train_features, x_test_features, feature_indices, selected_features = mutual_info(x_train, y_train, x_test, feature_names)\n",
    "    # TFIDF - Vecctorization\n",
    "    train_tfidf, test_tfidf = tfidf(x_train_features, x_test_features)\n",
    "    # Model - SVM\n",
    "    print(\"Results of SVM with Feature Selection\")\n",
    "    print(\"Features:\\n\", selected_features)\n",
    "    expectedsvm_wfs, predictedsvm_wfs = svm(train_tfidf, y_train, test_tfidf, y_test)\n",
    "    return expectedsvm_wfs, predictedsvm_wfs\n",
    "\n",
    "def svm_nfs(x_train, x_test, y_train, y_test):\n",
    "    # SVM WITHOUT FEATURE SELECTION\n",
    "    x_train_features, x_test_features, feature_names = nofeatureselection(x_train, x_test, y_train)\n",
    "    # Model - SVM\n",
    "    print(\"Results of SVM Classifier without Feature Selection\")\n",
    "    print(\"Features:\\n\", feature_names)\n",
    "    expectedsvm_nfs, predictedsvm_nfs = svm(x_train_features, y_train, x_test_features, y_test)\n",
    "    return expectedsvm_nfs, predictedsvm_nfs\n",
    "\n",
    "# RANDOM FOREST CLASSIFIER WITH FEATURE SELECTION - CHI SQUARE\n",
    "def rf_wfs(x_train, x_test, y_train, y_test):\n",
    "    # RANDOM FOREST WITH FEATURE SELECTION\n",
    "    # Feature Extraction\n",
    "    x_train, x_test, feature_names = bow(x_train, x_test)\n",
    "    # Feature Selection\n",
    "    # Select best 50 features according to chi square score\n",
    "    x_train_features, x_test_features, feature_indices, selected_features = ch2(x_train, y_train, x_test, feature_names)\n",
    "    # TFIDF - Vecctorization\n",
    "    train_tfidf, test_tfidf = tfidf(x_train_features, x_test_features)\n",
    "    # Model - Random Forest Classifier\n",
    "    print(\"Results of Random Forest Classifier with chi2 Feature Selection\")\n",
    "    print(\"Features:\\n\", selected_features)\n",
    "    expectedrf_wfs, predictedrf_wfs = randomforest(train_tfidf, y_train, test_tfidf, y_test)\n",
    "    return expectedrf_wfs, predictedrf_wfs\n",
    "\n",
    "# RANDOM FOREST CLASSIFIER WITH FEATURE SELECTION -- MUTUAL INFO\n",
    "def rf_wfs2(x_train, x_test, y_train, y_test):\n",
    "    # RANDOM FOREST WITH FEATURE SELECTION\n",
    "    # Feature Extraction\n",
    "    x_train, x_test, feature_names = bow(x_train, x_test)\n",
    "    # Feature Selection\n",
    "    # Select best 50 features according to chi square score\n",
    "    x_train_features, x_test_features, feature_indices, selected_features = mutual_info(x_train, y_train, x_test, feature_names)\n",
    "    # TFIDF - Vecctorization\n",
    "    train_tfidf, test_tfidf = tfidf(x_train_features, x_test_features)\n",
    "    # Model - Random Forest Classifier\n",
    "    print(\"Results of Random Forest Classifier with chi2 Feature Selection\")\n",
    "    print(\"Features:\\n\", selected_features)\n",
    "    expectedrf_wfs, predictedrf_wfs = randomforest(train_tfidf, y_train, test_tfidf, y_test)\n",
    "    return expectedrf_wfs, predictedrf_wfs\n",
    "\n",
    "# RANDOM FOREST WITHOUT FEATURE SELECTION\n",
    "def rf_nfs(x_train, x_test, y_train, y_test):\n",
    "    # RANDOM FOREST WITHOUT FEATURE SELECTION\n",
    "    x_train_features, x_test_features, feature_names = nofeatureselection(x_train, x_test, y_train)\n",
    "    # Model - RANDOM FOREST\n",
    "    print(\"Results of SVM Classifier without Feature Selection\")\n",
    "    print(\"Features:\\n\", feature_names)\n",
    "    expectedrf_nfs, predictedrf_nfs = randomforest(x_train_features, y_train, x_test_features, y_test)\n",
    "    return expectedrf_nfs, predictedrf_nfs\n",
    "\n",
    "x = df['content']\n",
    "y = df['label']\n",
    "\n",
    "x_train, x_test, y_train, y_test = train_test_split(x, y, train_size = 0.80, test_size=0.20, random_state=42)\n"
   ]
  },
  {
   "cell_type": "code",
   "execution_count": 5,
   "metadata": {},
   "outputs": [
    {
     "name": "stdout",
     "output_type": "stream",
     "text": [
      "Results of Multinomial Naive Bayes Classifier with Feature Selection\n",
      "Features:\n",
      " ['book', 'dirty', 'even', 'great', 'night', 'pay', 'poor', 'room', 'rude', 'worst']\n",
      "              precision    recall  f1-score   support\n",
      "\n",
      "           0       0.86      0.47      0.61       665\n",
      "           1       0.77      0.96      0.86      1270\n",
      "\n",
      "    accuracy                           0.79      1935\n",
      "   macro avg       0.82      0.71      0.73      1935\n",
      "weighted avg       0.80      0.79      0.77      1935\n",
      "\n",
      "[[ 311  354]\n",
      " [  52 1218]]\n"
     ]
    }
   ],
   "source": [
    "# MULTINOMIAL NAIVE BAYES WITH FEATURE SELECTION - CHI SQUARE\n",
    "expectednb_wfs, predictednb_wfs = naivebayes_withfs(x_train, x_test, y_train, y_test)"
   ]
  },
  {
   "cell_type": "code",
   "execution_count": 6,
   "metadata": {},
   "outputs": [
    {
     "name": "stdout",
     "output_type": "stream",
     "text": [
      "Results of Multinomial Naive Bayes Classifier with Feature Selection\n",
      "Features:\n",
      " ['comfortable', 'dirty', 'friendly', 'great', 'helpful', 'night', 'pay', 'room', 'rude', 'worst']\n",
      "              precision    recall  f1-score   support\n",
      "\n",
      "           0       0.83      0.52      0.64       665\n",
      "           1       0.79      0.94      0.86      1270\n",
      "\n",
      "    accuracy                           0.80      1935\n",
      "   macro avg       0.81      0.73      0.75      1935\n",
      "weighted avg       0.80      0.80      0.78      1935\n",
      "\n",
      "[[ 343  322]\n",
      " [  72 1198]]\n"
     ]
    }
   ],
   "source": [
    "# MULTINOMIAL NAIVE BAYES WITH FEATURE SELECTION - MUTUAL INFO\n",
    "expectednb_wfs, predictednb_wfs = naivebayes_withfs2(x_train, x_test, y_train, y_test)"
   ]
  },
  {
   "cell_type": "code",
   "execution_count": 7,
   "metadata": {},
   "outputs": [
    {
     "name": "stdout",
     "output_type": "stream",
     "text": [
      "Results of Multinomial Naive Bayes Classifier without Feature Selection\n",
      "Features:\n",
      " ['comfortable', 'dirty', 'excellent', 'friendly', 'great', 'helpful', 'pay', 'rude', 'staff', 'worst']\n",
      "              precision    recall  f1-score   support\n",
      "\n",
      "           0       0.97      0.10      0.18       665\n",
      "           1       0.68      1.00      0.81      1270\n",
      "\n",
      "    accuracy                           0.69      1935\n",
      "   macro avg       0.83      0.55      0.50      1935\n",
      "weighted avg       0.78      0.69      0.59      1935\n",
      "\n",
      "[[  67  598]\n",
      " [   2 1268]]\n"
     ]
    }
   ],
   "source": [
    "# MULTIONAMIAL NAIVE BAYES WITHOUT FEATURE SELECTION\n",
    "expectednb_nfs, predictednb_nfs = naivebayes_nfs(x_train, x_test, y_train, y_test)"
   ]
  },
  {
   "cell_type": "code",
   "execution_count": 8,
   "metadata": {},
   "outputs": [
    {
     "name": "stdout",
     "output_type": "stream",
     "text": [
      "Results of SVM with Feature Selection\n",
      "Features:\n",
      " ['book', 'dirty', 'even', 'great', 'night', 'pay', 'poor', 'room', 'rude', 'worst']\n",
      "              precision    recall  f1-score   support\n",
      "\n",
      "           0       0.80      0.49      0.61       665\n",
      "           1       0.78      0.94      0.85      1270\n",
      "\n",
      "    accuracy                           0.78      1935\n",
      "   macro avg       0.79      0.71      0.73      1935\n",
      "weighted avg       0.78      0.78      0.77      1935\n",
      "\n",
      "[[ 324  341]\n",
      " [  82 1188]]\n"
     ]
    }
   ],
   "source": [
    "# SVM WITH FEATURE SELECTION - CHI SQUARE\n",
    "expectedsvm_wfs, predictedsvm_wfs = svm_wfs(x_train, x_test, y_train, y_test)"
   ]
  },
  {
   "cell_type": "code",
   "execution_count": 9,
   "metadata": {},
   "outputs": [
    {
     "name": "stdout",
     "output_type": "stream",
     "text": [
      "Results of SVM with Feature Selection\n",
      "Features:\n",
      " ['comfortable', 'dirty', 'friendly', 'great', 'helpful', 'night', 'pay', 'room', 'rude', 'worst']\n",
      "              precision    recall  f1-score   support\n",
      "\n",
      "           0       0.81      0.48      0.60       665\n",
      "           1       0.77      0.94      0.85      1270\n",
      "\n",
      "    accuracy                           0.78      1935\n",
      "   macro avg       0.79      0.71      0.72      1935\n",
      "weighted avg       0.79      0.78      0.76      1935\n",
      "\n",
      "[[ 316  349]\n",
      " [  74 1196]]\n"
     ]
    }
   ],
   "source": [
    "# SVM WITH FEATURE SELECTION - MUTUAL INFO\n",
    "expectedsvm_wfs, predictedsvm_wfs = svm_wfs2(x_train, x_test, y_train, y_test)"
   ]
  },
  {
   "cell_type": "code",
   "execution_count": 10,
   "metadata": {},
   "outputs": [
    {
     "name": "stdout",
     "output_type": "stream",
     "text": [
      "Results of SVM Classifier without Feature Selection\n",
      "Features:\n",
      " ['comfortable', 'dirty', 'excellent', 'friendly', 'great', 'helpful', 'pay', 'rude', 'staff', 'worst']\n",
      "              precision    recall  f1-score   support\n",
      "\n",
      "           0       0.86      0.41      0.55       665\n",
      "           1       0.76      0.96      0.85      1270\n",
      "\n",
      "    accuracy                           0.77      1935\n",
      "   macro avg       0.81      0.69      0.70      1935\n",
      "weighted avg       0.79      0.77      0.75      1935\n",
      "\n",
      "[[ 272  393]\n",
      " [  45 1225]]\n"
     ]
    }
   ],
   "source": [
    "# SVM WITHOUT FEATURE SELECTION\n",
    "expectedsvm_nfs, predictedsvm_nfs = svm_nfs(x_train, x_test, y_train, y_test)"
   ]
  },
  {
   "cell_type": "code",
   "execution_count": 19,
   "metadata": {},
   "outputs": [
    {
     "name": "stdout",
     "output_type": "stream",
     "text": [
      "Results of Random Forest Classifier with chi2 Feature Selection\n",
      "Features:\n",
      " ['book', 'dirty', 'even', 'great', 'never', 'night', 'pay', 'room', 'rude', 'worst']\n",
      "              precision    recall  f1-score   support\n",
      "\n",
      "           0       0.77      0.53      0.63       633\n",
      "           1       0.80      0.93      0.86      1302\n",
      "\n",
      "    accuracy                           0.80      1935\n",
      "   macro avg       0.79      0.73      0.74      1935\n",
      "weighted avg       0.79      0.80      0.78      1935\n",
      "\n",
      "[[ 334  299]\n",
      " [  97 1205]]\n"
     ]
    }
   ],
   "source": [
    "# RANDOM FOREST CLASSIFIER WITH FEATURE SELECTION - CHI SQUARE\n",
    "expectedrf_wfs, predictedrf_wfs = rf_wfs(x_train, x_test, y_train, y_test)"
   ]
  },
  {
   "cell_type": "code",
   "execution_count": 14,
   "metadata": {},
   "outputs": [
    {
     "name": "stdout",
     "output_type": "stream",
     "text": [
      "Results of Random Forest Classifier with chi2 Feature Selection\n",
      "Features:\n",
      " ['comfortable', 'dirty', 'friendly', 'great', 'helpful', 'night', 'pay', 'room', 'rude', 'worst']\n",
      "              precision    recall  f1-score   support\n",
      "\n",
      "           0       0.77      0.57      0.65       665\n",
      "           1       0.80      0.91      0.85      1270\n",
      "\n",
      "    accuracy                           0.79      1935\n",
      "   macro avg       0.78      0.74      0.75      1935\n",
      "weighted avg       0.79      0.79      0.78      1935\n",
      "\n",
      "[[ 379  286]\n",
      " [ 116 1154]]\n"
     ]
    }
   ],
   "source": [
    "# RANDOM FOREST CLASSIFIER WITH FEATURE SELECTION - MUTUAL INFO\n",
    "expectedrf_wfs, predictedrf_wfs = rf_wfs2(x_train, x_test, y_train, y_test)"
   ]
  },
  {
   "cell_type": "code",
   "execution_count": 13,
   "metadata": {},
   "outputs": [
    {
     "name": "stdout",
     "output_type": "stream",
     "text": [
      "Results of SVM Classifier without Feature Selection\n",
      "Features:\n",
      " ['comfortable', 'dirty', 'excellent', 'friendly', 'great', 'helpful', 'pay', 'rude', 'staff', 'worst']\n",
      "              precision    recall  f1-score   support\n",
      "\n",
      "           0       0.72      0.48      0.58       665\n",
      "           1       0.77      0.90      0.83      1270\n",
      "\n",
      "    accuracy                           0.76      1935\n",
      "   macro avg       0.74      0.69      0.70      1935\n",
      "weighted avg       0.75      0.76      0.74      1935\n",
      "\n",
      "[[ 322  343]\n",
      " [ 126 1144]]\n"
     ]
    }
   ],
   "source": [
    "# RANDOM FOREST CLASSIFIER WITHOUT FEATURE SELECTION \n",
    "expectedrf_nfs, predictedrf_nfs = rf_nfs(x_train, x_test, y_train, y_test)"
   ]
  },
  {
   "cell_type": "code",
   "execution_count": null,
   "metadata": {},
   "outputs": [],
   "source": []
  },
  {
   "cell_type": "code",
   "execution_count": null,
   "metadata": {},
   "outputs": [],
   "source": []
  },
  {
   "cell_type": "code",
   "execution_count": null,
   "metadata": {},
   "outputs": [],
   "source": []
  }
 ],
 "metadata": {
  "kernelspec": {
   "display_name": "Python 3",
   "language": "python",
   "name": "python3"
  },
  "language_info": {
   "codemirror_mode": {
    "name": "ipython",
    "version": 3
   },
   "file_extension": ".py",
   "mimetype": "text/x-python",
   "name": "python",
   "nbconvert_exporter": "python",
   "pygments_lexer": "ipython3",
   "version": "3.8.3"
  }
 },
 "nbformat": 4,
 "nbformat_minor": 4
}
