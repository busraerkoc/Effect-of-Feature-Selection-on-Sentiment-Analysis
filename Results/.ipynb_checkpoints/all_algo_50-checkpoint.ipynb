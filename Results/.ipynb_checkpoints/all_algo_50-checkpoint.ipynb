{
 "cells": [
  {
   "cell_type": "code",
   "execution_count": 1,
   "metadata": {},
   "outputs": [
    {
     "name": "stdout",
     "output_type": "stream",
     "text": [
      "1    12207\n",
      "0     3225\n",
      "Name: label, dtype: int64\n",
      "1    6450\n",
      "0    3225\n",
      "Name: label, dtype: int64\n"
     ]
    }
   ],
   "source": [
    "from sklearn.feature_extraction.text import TfidfTransformer\n",
    "from sklearn.feature_extraction.text import TfidfVectorizer\n",
    "import pandas as pd\n",
    "import numpy as np\n",
    "from sklearn.model_selection import train_test_split\n",
    "from sklearn.naive_bayes import MultinomialNB\n",
    "from sklearn import metrics\n",
    "from sklearn.feature_extraction.text import CountVectorizer\n",
    "import csv\n",
    "from sklearn.feature_selection import SelectKBest, chi2, mutual_info_classif\n",
    "from sklearn.svm import SVC \n",
    "from sklearn.ensemble import RandomForestClassifier\n",
    "import matplotlib.pyplot as plt\n",
    "\n",
    "df = pd.read_csv('/input/preprocessed.csv')\n",
    "df.shape\n",
    "print(df.label.value_counts())\n",
    "\n",
    "pos_df=df.loc[df.label==1,:][:6450]\n",
    "neg_df=df.loc[df.label==0,:][:3225]\n",
    "df=pd.concat([pos_df,neg_df],ignore_index=True)\n",
    "df = df.sample(frac=1).reset_index(drop=True)\n",
    "df.head()\n",
    "print(df.label.value_counts())\n",
    "\n",
    "#Bag of Words\n",
    "def bow(train, test):\n",
    "    vectorizer = CountVectorizer(analyzer='word')\n",
    "    train_data = vectorizer.fit_transform(train)\n",
    "    test_data = vectorizer.transform(test)\n",
    "    feature_names = vectorizer.get_feature_names()\n",
    "    #print(feature_names)\n",
    "    return train_data, test_data, feature_names\n",
    "\n",
    "# Feature selection chi2 method\n",
    "def ch2(x_train, y_train, x_test, feature_names):\n",
    "    ch2 = SelectKBest(chi2, k=50)\n",
    "    x_train_features = ch2.fit_transform(x_train, y_train)\n",
    "    x_test_features = ch2.transform(x_test)\n",
    "    feature_indices = ch2.get_support(indices=True)\n",
    "    selected_features = [feature_names[i] for i in ch2.get_support(indices=True)]\n",
    "    return x_train_features, x_test_features, feature_indices, selected_features\n",
    "\n",
    "# Feature selection mutual_info_classif\n",
    "def mutual_info(x_train, y_train, x_test, feature_names):\n",
    "    mutual = SelectKBest(mutual_info_classif, k=50)\n",
    "    x_train_features = mutual.fit_transform(x_train, y_train)\n",
    "    x_test_features = mutual.transform(x_test)\n",
    "    feature_indices = mutual.get_support(indices=True)\n",
    "    selected_features = [feature_names[i] for i in mutual.get_support(indices=True)]\n",
    "    return x_train_features, x_test_features, feature_indices, selected_features\n",
    "\n",
    "#TFIDF VECTORIZATION\n",
    "def tfidf(train, test):\n",
    "    vectorizer = TfidfTransformer()\n",
    "    train_tfidf = vectorizer.fit_transform(train)\n",
    "    test_tfidf = vectorizer.transform(test)\n",
    "    return train_tfidf, test_tfidf    \n",
    "\n",
    "# NO FEATURE SELECTION\n",
    "def nofeatureselection(x_train, x_test, y_train):\n",
    "    #TFIDF\n",
    "    vectorizer = TfidfVectorizer(use_idf=True,\n",
    "                                 analyzer='word',\n",
    "                                 strip_accents='unicode')\n",
    "    tfidf_train = vectorizer.fit_transform(x_train)\n",
    "    tfidf_test = vectorizer.transform(x_test)\n",
    "    feature_names = vectorizer.get_feature_names()\n",
    "    feat = SelectKBest(k=50)\n",
    "    x_train_features = feat.fit_transform(tfidf_train, y_train)\n",
    "    x_test_features = feat.transform(tfidf_test)\n",
    "    feature_names = [feature_names[i] for i in feat.get_support(indices=True)]\n",
    "    return x_train_features, x_test_features, feature_names\n",
    "\n",
    "#MULTINOMIAL NAIVE BAYES\n",
    "def Multinomial(train_tfidf, y_train, test_tfidf, y_test):\n",
    "    model = MultinomialNB()\n",
    "    model.fit(train_tfidf, y_train)\n",
    "    expected = y_test\n",
    "    predicted = model.predict(test_tfidf)\n",
    "    print(metrics.classification_report(expected, predicted))\n",
    "    print(metrics.confusion_matrix(expected, predicted))\n",
    "    return expected, predicted\n",
    "\n",
    "def svm(train_tfidf, y_train, test_tfidf, y_test):\n",
    "    svc = SVC(kernel='linear', C = 1.0)\n",
    "    svc.fit(train_tfidf, y_train)\n",
    "    predicted = svc.predict(test_tfidf)\n",
    "    expected = y_test\n",
    "    print(metrics.classification_report(expected, predicted))\n",
    "    print(metrics.confusion_matrix(expected, predicted))\n",
    "    return expected, predicted\n",
    "\n",
    "def randomforest(train_tfidf, y_train, test_tfidf, y_test):\n",
    "    clf = RandomForestClassifier()\n",
    "    clf.fit(train_tfidf, y_train)\n",
    "    expected = y_test\n",
    "    predicted = clf.predict(test_tfidf)\n",
    "    print(metrics.classification_report(expected, predicted))\n",
    "    print(metrics.confusion_matrix(expected, predicted))\n",
    "    return expected, predicted\n",
    "\n",
    "def naivebayes_withfs(x_train, x_test, y_train, y_test):\n",
    "    # MULTINOMIAL NAIVE BAYES WITH FEATURE SELECTION\n",
    "    # Feature Extraction\n",
    "    x_train, x_test, feature_names = bow(x_train, x_test)\n",
    "    # Feature Selection\n",
    "    # Select best 50 features according to chi square score\n",
    "    x_train_features, x_test_features, feature_indices, selected_features = ch2(x_train, y_train, x_test, feature_names)\n",
    "    # TFIDF - Vecctorization\n",
    "    train_tfidf, test_tfidf = tfidf(x_train_features, x_test_features)\n",
    "    # Model - Multinomial Naive Bayes\n",
    "    print(\"Results of Multinomial Naive Bayes Classifier with Feature Selection\")\n",
    "    print(\"Features:\\n\", selected_features)\n",
    "    expectednb_wfs, predictednb_wfs = Multinomial(train_tfidf, y_train, test_tfidf, y_test)\n",
    "    return expectednb_wfs, predictednb_wfs\n",
    "\n",
    "def naivebayes_withfs2(x_train, x_test, y_train, y_test):\n",
    "    # MULTINOMIAL NAIVE BAYES WITH FEATURE SELECTION\n",
    "    # Feature Extraction\n",
    "    x_train, x_test, feature_names = bow(x_train, x_test)\n",
    "    # Feature Selection\n",
    "    # Select best 50 features according to chi square score\n",
    "    x_train_features, x_test_features, feature_indices, selected_features = mutual_info(x_train, y_train, x_test, feature_names)\n",
    "    # TFIDF - Vecctorization\n",
    "    train_tfidf, test_tfidf = tfidf(x_train_features, x_test_features)\n",
    "    # Model - Multinomial Naive Bayes\n",
    "    print(\"Results of Multinomial Naive Bayes Classifier with Feature Selection\")\n",
    "    print(\"Features:\\n\", selected_features)\n",
    "    expectednb_wfs, predictednb_wfs = Multinomial(train_tfidf, y_train, test_tfidf, y_test)\n",
    "    return expectednb_wfs, predictednb_wfs\n",
    "\n",
    "def naivebayes_nfs(x_train, x_test, y_train, y_test):\n",
    "    # MULTIONAMIAL NAIVE BAYES WITHOUT FEATURE SELECTION\n",
    "    x_train_features, x_test_features, feature_names = nofeatureselection(x_train, x_test, y_train)\n",
    "    # Model - Multinomial Naive Bayes\n",
    "    print(\"Results of Multinomial Naive Bayes Classifier without Feature Selection\")\n",
    "    print(\"Features:\\n\", feature_names)\n",
    "    expectednb_nfs, predictednb_nfs = Multinomial(x_train_features, y_train, x_test_features, y_test)\n",
    "    return expectednb_nfs, predictednb_nfs\n",
    "\n",
    "\n",
    "def svm_wfs(x_train, x_test, y_train, y_test):\n",
    "    # SVM WITH FEATURE SELECTION\n",
    "    # Feature Extraction\n",
    "    x_train, x_test, feature_names = bow(x_train, x_test)\n",
    "    # Feature Selection\n",
    "    # Select best 50 features according to chi square score\n",
    "    x_train_features, x_test_features, feature_indices, selected_features = ch2(x_train, y_train, x_test, feature_names)\n",
    "    # TFIDF - Vecctorization\n",
    "    train_tfidf, test_tfidf = tfidf(x_train_features, x_test_features)\n",
    "    # Model - SVM\n",
    "    print(\"Results of SVM with Feature Selection\")\n",
    "    print(\"Features:\\n\", selected_features)\n",
    "    expectedsvm_wfs, predictedsvm_wfs = svm(train_tfidf, y_train, test_tfidf, y_test)\n",
    "    return expectedsvm_wfs, predictedsvm_wfs\n",
    "\n",
    "def svm_wfs2(x_train, x_test, y_train, y_test):\n",
    "    # SVM WITH FEATURE SELECTION\n",
    "    # Feature Extraction\n",
    "    x_train, x_test, feature_names = bow(x_train, x_test)\n",
    "    # Feature Selection\n",
    "    # Select best 50 features according to chi square score\n",
    "    x_train_features, x_test_features, feature_indices, selected_features = mutual_info(x_train, y_train, x_test, feature_names)\n",
    "    # TFIDF - Vecctorization\n",
    "    train_tfidf, test_tfidf = tfidf(x_train_features, x_test_features)\n",
    "    # Model - SVM\n",
    "    print(\"Results of SVM with Feature Selection\")\n",
    "    print(\"Features:\\n\", selected_features)\n",
    "    expectedsvm_wfs, predictedsvm_wfs = svm(train_tfidf, y_train, test_tfidf, y_test)\n",
    "    return expectedsvm_wfs, predictedsvm_wfs\n",
    "\n",
    "def svm_nfs(x_train, x_test, y_train, y_test):\n",
    "    # SVM WITHOUT FEATURE SELECTION\n",
    "    x_train_features, x_test_features, feature_names = nofeatureselection(x_train, x_test, y_train)\n",
    "    # Model - SVM\n",
    "    print(\"Results of SVM Classifier without Feature Selection\")\n",
    "    print(\"Features:\\n\", feature_names)\n",
    "    expectedsvm_nfs, predictedsvm_nfs = svm(x_train_features, y_train, x_test_features, y_test)\n",
    "    return expectedsvm_nfs, predictedsvm_nfs\n",
    "\n",
    "# RANDOM FOREST CLASSIFIER WITH FEATURE SELECTION - CHI SQUARE\n",
    "def rf_wfs(x_train, x_test, y_train, y_test):\n",
    "    # RANDOM FOREST WITH FEATURE SELECTION\n",
    "    # Feature Extraction\n",
    "    x_train, x_test, feature_names = bow(x_train, x_test)\n",
    "    # Feature Selection\n",
    "    # Select best 50 features according to chi square score\n",
    "    x_train_features, x_test_features, feature_indices, selected_features = ch2(x_train, y_train, x_test, feature_names)\n",
    "    # TFIDF - Vecctorization\n",
    "    train_tfidf, test_tfidf = tfidf(x_train_features, x_test_features)\n",
    "    # Model - Random Forest Classifier\n",
    "    print(\"Results of Random Forest Classifier with chi2 Feature Selection\")\n",
    "    print(\"Features:\\n\", selected_features)\n",
    "    expectedrf_wfs, predictedrf_wfs = randomforest(train_tfidf, y_train, test_tfidf, y_test)\n",
    "    return expectedrf_wfs, predictedrf_wfs\n",
    "\n",
    "# RANDOM FOREST CLASSIFIER WITH FEATURE SELECTION -- MUTUAL INFO\n",
    "def rf_wfs2(x_train, x_test, y_train, y_test):\n",
    "    # RANDOM FOREST WITH FEATURE SELECTION\n",
    "    # Feature Extraction\n",
    "    x_train, x_test, feature_names = bow(x_train, x_test)\n",
    "    # Feature Selection\n",
    "    # Select best 50 features according to chi square score\n",
    "    x_train_features, x_test_features, feature_indices, selected_features = mutual_info(x_train, y_train, x_test, feature_names)\n",
    "    # TFIDF - Vecctorization\n",
    "    train_tfidf, test_tfidf = tfidf(x_train_features, x_test_features)\n",
    "    # Model - Random Forest Classifier\n",
    "    print(\"Results of Random Forest Classifier with chi2 Feature Selection\")\n",
    "    print(\"Features:\\n\", selected_features)\n",
    "    expectedrf_wfs, predictedrf_wfs = randomforest(train_tfidf, y_train, test_tfidf, y_test)\n",
    "    return expectedrf_wfs, predictedrf_wfs\n",
    "\n",
    "# RANDOM FOREST WITHOUT FEATURE SELECTION\n",
    "def rf_nfs(x_train, x_test, y_train, y_test):\n",
    "    # RANDOM FOREST WITHOUT FEATURE SELECTION\n",
    "    x_train_features, x_test_features, feature_names = nofeatureselection(x_train, x_test, y_train)\n",
    "    # Model - RANDOM FOREST\n",
    "    print(\"Results of SVM Classifier without Feature Selection\")\n",
    "    print(\"Features:\\n\", feature_names)\n",
    "    expectedrf_nfs, predictedrf_nfs = randomforest(x_train_features, y_train, x_test_features, y_test)\n",
    "    return expectedrf_nfs, predictedrf_nfs\n",
    "\n",
    "x = df['content']\n",
    "y = df['label']\n",
    "\n",
    "x_train, x_test, y_train, y_test = train_test_split(x, y, train_size = 0.80, test_size=0.20, random_state=42)\n"
   ]
  },
  {
   "cell_type": "code",
   "execution_count": 2,
   "metadata": {},
   "outputs": [
    {
     "name": "stdout",
     "output_type": "stream",
     "text": [
      "Results of Multinomial Naive Bayes Classifier with Feature Selection\n",
      "Features:\n",
      " ['another', 'awful', 'bad', 'bed', 'book', 'call', 'carpet', 'charge', 'check', 'comfortable', 'could', 'dirty', 'disgust', 'door', 'even', 'excellent', 'friendly', 'give', 'great', 'helpful', 'horrible', 'key', 'leave', 'like', 'look', 'move', 'never', 'night', 'old', 'one', 'open', 'pay', 'poor', 'reception', 'receptionist', 'room', 'rude', 'shower', 'sleep', 'smell', 'someone', 'stain', 'star', 'terrible', 'tiny', 'toilet', 'towel', 'wall', 'work', 'worst']\n",
      "              precision    recall  f1-score   support\n",
      "\n",
      "           0       0.87      0.73      0.79       648\n",
      "           1       0.88      0.94      0.91      1287\n",
      "\n",
      "    accuracy                           0.87      1935\n",
      "   macro avg       0.87      0.84      0.85      1935\n",
      "weighted avg       0.87      0.87      0.87      1935\n",
      "\n",
      "[[ 475  173]\n",
      " [  73 1214]]\n"
     ]
    }
   ],
   "source": [
    "# MULTINOMIAL NAIVE BAYES WITH FEATURE SELECTION - CHI SQUARE\n",
    "expectednb_wfs, predictednb_wfs = naivebayes_withfs(x_train, x_test, y_train, y_test)"
   ]
  },
  {
   "cell_type": "code",
   "execution_count": 3,
   "metadata": {},
   "outputs": [
    {
     "name": "stdout",
     "output_type": "stream",
     "text": [
      "Results of Multinomial Naive Bayes Classifier with Feature Selection\n",
      "Features:\n",
      " ['amaze', 'another', 'awful', 'bad', 'beautiful', 'bed', 'book', 'call', 'carpet', 'comfortable', 'could', 'dirty', 'disgust', 'door', 'even', 'excellent', 'friendly', 'give', 'great', 'helpful', 'horrible', 'leave', 'like', 'look', 'lovely', 'move', 'never', 'night', 'old', 'pay', 'perfect', 'poor', 'reception', 'receptionist', 'restaurants', 'room', 'rude', 'sleep', 'smell', 'someone', 'staff', 'stain', 'star', 'terrible', 'tiny', 'toilet', 'view', 'wall', 'work', 'worst']\n",
      "              precision    recall  f1-score   support\n",
      "\n",
      "           0       0.87      0.80      0.83       648\n",
      "           1       0.90      0.94      0.92      1287\n",
      "\n",
      "    accuracy                           0.89      1935\n",
      "   macro avg       0.89      0.87      0.88      1935\n",
      "weighted avg       0.89      0.89      0.89      1935\n",
      "\n",
      "[[ 520  128]\n",
      " [  78 1209]]\n"
     ]
    }
   ],
   "source": [
    "# MULTINOMIAL NAIVE BAYES WITH FEATURE SELECTION - MUTUAL INFO\n",
    "expectednb_wfs, predictednb_wfs = naivebayes_withfs2(x_train, x_test, y_train, y_test)"
   ]
  },
  {
   "cell_type": "code",
   "execution_count": 4,
   "metadata": {},
   "outputs": [
    {
     "name": "stdout",
     "output_type": "stream",
     "text": [
      "Results of Multinomial Naive Bayes Classifier without Feature Selection\n",
      "Features:\n",
      " ['amaze', 'another', 'avoid', 'awful', 'bad', 'beautiful', 'book', 'breakfast', 'call', 'carpet', 'clean', 'comfortable', 'dirty', 'disgust', 'door', 'even', 'excellent', 'friendly', 'good', 'great', 'helpful', 'horrible', 'leave', 'location', 'lovely', 'never', 'nice', 'night', 'pay', 'perfect', 'poor', 'quiet', 'refund', 'restaurants', 'rude', 'sleep', 'smell', 'someone', 'spacious', 'staff', 'stain', 'star', 'terrible', 'tiny', 'toilet', 'view', 'walk', 'wall', 'work', 'worst']\n",
      "              precision    recall  f1-score   support\n",
      "\n",
      "           0       0.97      0.39      0.55       648\n",
      "           1       0.76      0.99      0.86      1287\n",
      "\n",
      "    accuracy                           0.79      1935\n",
      "   macro avg       0.86      0.69      0.71      1935\n",
      "weighted avg       0.83      0.79      0.76      1935\n",
      "\n",
      "[[ 251  397]\n",
      " [   9 1278]]\n"
     ]
    }
   ],
   "source": [
    "# MULTIONAMIAL NAIVE BAYES WITHOUT FEATURE SELECTION\n",
    "expectednb_nfs, predictednb_nfs = naivebayes_nfs(x_train, x_test, y_train, y_test)"
   ]
  },
  {
   "cell_type": "code",
   "execution_count": 5,
   "metadata": {},
   "outputs": [
    {
     "name": "stdout",
     "output_type": "stream",
     "text": [
      "Results of SVM with Feature Selection\n",
      "Features:\n",
      " ['another', 'awful', 'bad', 'bed', 'book', 'call', 'carpet', 'charge', 'check', 'comfortable', 'could', 'dirty', 'disgust', 'door', 'even', 'excellent', 'friendly', 'give', 'great', 'helpful', 'horrible', 'key', 'leave', 'like', 'look', 'move', 'never', 'night', 'old', 'one', 'open', 'pay', 'poor', 'reception', 'receptionist', 'room', 'rude', 'shower', 'sleep', 'smell', 'someone', 'stain', 'star', 'terrible', 'tiny', 'toilet', 'towel', 'wall', 'work', 'worst']\n",
      "              precision    recall  f1-score   support\n",
      "\n",
      "           0       0.83      0.79      0.81       648\n",
      "           1       0.90      0.92      0.91      1287\n",
      "\n",
      "    accuracy                           0.87      1935\n",
      "   macro avg       0.86      0.85      0.86      1935\n",
      "weighted avg       0.87      0.87      0.87      1935\n",
      "\n",
      "[[ 510  138]\n",
      " [ 105 1182]]\n"
     ]
    }
   ],
   "source": [
    "# SVM WITH FEATURE SELECTION - CHI SQUARE\n",
    "expectedsvm_wfs, predictedsvm_wfs = svm_wfs(x_train, x_test, y_train, y_test)"
   ]
  },
  {
   "cell_type": "code",
   "execution_count": 6,
   "metadata": {},
   "outputs": [
    {
     "name": "stdout",
     "output_type": "stream",
     "text": [
      "Results of SVM with Feature Selection\n",
      "Features:\n",
      " ['amaze', 'another', 'awful', 'bad', 'beautiful', 'bed', 'book', 'call', 'carpet', 'comfortable', 'could', 'dirty', 'disgust', 'door', 'even', 'excellent', 'friendly', 'give', 'great', 'helpful', 'horrible', 'leave', 'like', 'look', 'lovely', 'move', 'never', 'night', 'old', 'pay', 'perfect', 'poor', 'reception', 'receptionist', 'restaurants', 'room', 'rude', 'sleep', 'smell', 'someone', 'staff', 'stain', 'star', 'terrible', 'tiny', 'toilet', 'view', 'wall', 'work', 'worst']\n",
      "              precision    recall  f1-score   support\n",
      "\n",
      "           0       0.83      0.84      0.84       648\n",
      "           1       0.92      0.92      0.92      1287\n",
      "\n",
      "    accuracy                           0.89      1935\n",
      "   macro avg       0.88      0.88      0.88      1935\n",
      "weighted avg       0.89      0.89      0.89      1935\n",
      "\n",
      "[[ 546  102]\n",
      " [ 109 1178]]\n"
     ]
    }
   ],
   "source": [
    "# SVM WITH FEATURE SELECTION - MUTUAL INFO\n",
    "expectedsvm_wfs, predictedsvm_wfs = svm_wfs2(x_train, x_test, y_train, y_test)"
   ]
  },
  {
   "cell_type": "code",
   "execution_count": 7,
   "metadata": {},
   "outputs": [
    {
     "name": "stdout",
     "output_type": "stream",
     "text": [
      "Results of SVM Classifier without Feature Selection\n",
      "Features:\n",
      " ['amaze', 'another', 'avoid', 'awful', 'bad', 'beautiful', 'book', 'breakfast', 'call', 'carpet', 'clean', 'comfortable', 'dirty', 'disgust', 'door', 'even', 'excellent', 'friendly', 'good', 'great', 'helpful', 'horrible', 'leave', 'location', 'lovely', 'never', 'nice', 'night', 'pay', 'perfect', 'poor', 'quiet', 'refund', 'restaurants', 'rude', 'sleep', 'smell', 'someone', 'spacious', 'staff', 'stain', 'star', 'terrible', 'tiny', 'toilet', 'view', 'walk', 'wall', 'work', 'worst']\n",
      "              precision    recall  f1-score   support\n",
      "\n",
      "           0       0.88      0.81      0.85       648\n",
      "           1       0.91      0.95      0.93      1287\n",
      "\n",
      "    accuracy                           0.90      1935\n",
      "   macro avg       0.90      0.88      0.89      1935\n",
      "weighted avg       0.90      0.90      0.90      1935\n",
      "\n",
      "[[ 525  123]\n",
      " [  69 1218]]\n"
     ]
    }
   ],
   "source": [
    "# SVM WITHOUT FEATURE SELECTION\n",
    "expectedsvm_nfs, predictedsvm_nfs = svm_nfs(x_train, x_test, y_train, y_test)"
   ]
  },
  {
   "cell_type": "code",
   "execution_count": 8,
   "metadata": {},
   "outputs": [
    {
     "name": "stdout",
     "output_type": "stream",
     "text": [
      "Results of Random Forest Classifier with chi2 Feature Selection\n",
      "Features:\n",
      " ['another', 'awful', 'bad', 'bed', 'book', 'call', 'carpet', 'charge', 'check', 'comfortable', 'could', 'dirty', 'disgust', 'door', 'even', 'excellent', 'friendly', 'give', 'great', 'helpful', 'horrible', 'key', 'leave', 'like', 'look', 'move', 'never', 'night', 'old', 'one', 'open', 'pay', 'poor', 'reception', 'receptionist', 'room', 'rude', 'shower', 'sleep', 'smell', 'someone', 'stain', 'star', 'terrible', 'tiny', 'toilet', 'towel', 'wall', 'work', 'worst']\n",
      "              precision    recall  f1-score   support\n",
      "\n",
      "           0       0.82      0.78      0.80       648\n",
      "           1       0.89      0.92      0.90      1287\n",
      "\n",
      "    accuracy                           0.87      1935\n",
      "   macro avg       0.86      0.85      0.85      1935\n",
      "weighted avg       0.87      0.87      0.87      1935\n",
      "\n",
      "[[ 503  145]\n",
      " [ 107 1180]]\n"
     ]
    }
   ],
   "source": [
    "# RANDOM FOREST CLASSIFIER WITH FEATURE SELECTION - CHI SQUARE\n",
    "expectedrf_wfs, predictedrf_wfs = rf_wfs(x_train, x_test, y_train, y_test)"
   ]
  },
  {
   "cell_type": "code",
   "execution_count": 9,
   "metadata": {},
   "outputs": [
    {
     "name": "stdout",
     "output_type": "stream",
     "text": [
      "Results of Random Forest Classifier with chi2 Feature Selection\n",
      "Features:\n",
      " ['amaze', 'another', 'awful', 'bad', 'beautiful', 'bed', 'book', 'call', 'carpet', 'comfortable', 'could', 'dirty', 'disgust', 'door', 'even', 'excellent', 'friendly', 'give', 'great', 'helpful', 'horrible', 'leave', 'like', 'look', 'lovely', 'move', 'never', 'night', 'old', 'pay', 'perfect', 'poor', 'reception', 'receptionist', 'restaurants', 'room', 'rude', 'sleep', 'smell', 'someone', 'staff', 'stain', 'star', 'terrible', 'tiny', 'toilet', 'view', 'wall', 'work', 'worst']\n",
      "              precision    recall  f1-score   support\n",
      "\n",
      "           0       0.84      0.79      0.81       648\n",
      "           1       0.90      0.93      0.91      1287\n",
      "\n",
      "    accuracy                           0.88      1935\n",
      "   macro avg       0.87      0.86      0.86      1935\n",
      "weighted avg       0.88      0.88      0.88      1935\n",
      "\n",
      "[[ 509  139]\n",
      " [  95 1192]]\n"
     ]
    }
   ],
   "source": [
    "# RANDOM FOREST CLASSIFIER WITH FEATURE SELECTION - MUTUAL INFO\n",
    "expectedrf_wfs, predictedrf_wfs = rf_wfs2(x_train, x_test, y_train, y_test)"
   ]
  },
  {
   "cell_type": "code",
   "execution_count": 10,
   "metadata": {},
   "outputs": [
    {
     "name": "stdout",
     "output_type": "stream",
     "text": [
      "Results of SVM Classifier without Feature Selection\n",
      "Features:\n",
      " ['amaze', 'another', 'avoid', 'awful', 'bad', 'beautiful', 'book', 'breakfast', 'call', 'carpet', 'clean', 'comfortable', 'dirty', 'disgust', 'door', 'even', 'excellent', 'friendly', 'good', 'great', 'helpful', 'horrible', 'leave', 'location', 'lovely', 'never', 'nice', 'night', 'pay', 'perfect', 'poor', 'quiet', 'refund', 'restaurants', 'rude', 'sleep', 'smell', 'someone', 'spacious', 'staff', 'stain', 'star', 'terrible', 'tiny', 'toilet', 'view', 'walk', 'wall', 'work', 'worst']\n",
      "              precision    recall  f1-score   support\n",
      "\n",
      "           0       0.86      0.78      0.82       648\n",
      "           1       0.90      0.93      0.91      1287\n",
      "\n",
      "    accuracy                           0.88      1935\n",
      "   macro avg       0.88      0.86      0.87      1935\n",
      "weighted avg       0.88      0.88      0.88      1935\n",
      "\n",
      "[[ 507  141]\n",
      " [  85 1202]]\n"
     ]
    }
   ],
   "source": [
    "# RANDOM FOREST CLASSIFIER WITHOUT FEATURE SELECTION \n",
    "expectedrf_nfs, predictedrf_nfs = rf_nfs(x_train, x_test, y_train, y_test)"
   ]
  },
  {
   "cell_type": "code",
   "execution_count": null,
   "metadata": {},
   "outputs": [],
   "source": []
  },
  {
   "cell_type": "code",
   "execution_count": null,
   "metadata": {},
   "outputs": [],
   "source": []
  }
 ],
 "metadata": {
  "kernelspec": {
   "display_name": "Python 3",
   "language": "python",
   "name": "python3"
  },
  "language_info": {
   "codemirror_mode": {
    "name": "ipython",
    "version": 3
   },
   "file_extension": ".py",
   "mimetype": "text/x-python",
   "name": "python",
   "nbconvert_exporter": "python",
   "pygments_lexer": "ipython3",
   "version": "3.8.3"
  }
 },
 "nbformat": 4,
 "nbformat_minor": 4
}
