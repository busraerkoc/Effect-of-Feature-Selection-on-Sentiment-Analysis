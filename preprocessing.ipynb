{
 "cells": [
  {
   "cell_type": "code",
   "execution_count": 52,
   "metadata": {
    "_cell_guid": "b1076dfc-b9ad-4769-8c92-a6c4dae69d19",
    "_uuid": "8f2839f25d086af736a60e9eeb907d3b93b6e0e5"
   },
   "outputs": [],
   "source": [
    "from sklearn.feature_extraction.text import TfidfTransformer\n",
    "from sklearn.feature_extraction.text import TfidfVectorizer\n",
    "import pandas as pd\n",
    "import numpy as np\n",
    "from sklearn.model_selection import train_test_split\n",
    "from sklearn.naive_bayes import MultinomialNB\n",
    "from sklearn import metrics\n",
    "from sklearn.feature_extraction.text import CountVectorizer\n",
    "import csv\n",
    "from sklearn.feature_selection import SelectKBest, chi2, mutual_info_classif\n",
    "from sklearn.svm import SVC \n",
    "from sklearn.ensemble import RandomForestClassifier\n",
    "import matplotlib.pyplot as plt\n",
    "from nltk.corpus import stopwords\n",
    "from nltk.tokenize import word_tokenize\n",
    "from nltk.stem import WordNetLemmatizer\n",
    "import re\n",
    "import string\n",
    "import itertools"
   ]
  },
  {
   "cell_type": "code",
   "execution_count": 53,
   "metadata": {
    "_cell_guid": "79c7e3d0-c299-4dcb-8224-4455121ee9b0",
    "_uuid": "d629ff2d2480ee46fbb7e2d37f6b5fab8052498a"
   },
   "outputs": [
    {
     "name": "stdout",
     "output_type": "stream",
     "text": [
      "1    12207\n",
      "0     3225\n",
      "Name: label, dtype: int64\n",
      "        city                                            content      country  \\\n",
      "0  Amsterdam  What can I say... ,Everything was just fantast...  Netherlands   \n",
      "1  Amsterdam  My wife and I stayed at Ambassade Hotel for 7 ...  Netherlands   \n",
      "2  Amsterdam  We started our Europe 2019 trip in Amsterdam a...  Netherlands   \n",
      "3  Amsterdam  If you get a chance to visit the French Restau...  Netherlands   \n",
      "4  Amsterdam  This is a charming small hotel in a central lo...  Netherlands   \n",
      "\n",
      "   rating                                              title       titleHotel  \\\n",
      "0       5                               Absolutely wonderful  Ambassade Hotel   \n",
      "1       5                 Fabulous First Visit to Amsterdam   Ambassade Hotel   \n",
      "2       5  Fantastic Ambassade Hotel - Location, Restaura...  Ambassade Hotel   \n",
      "3       5                               Wonderful Restaurant  Ambassade Hotel   \n",
      "4       5                                    Will stay again  Ambassade Hotel   \n",
      "\n",
      "   label  \n",
      "0      1  \n",
      "1      1  \n",
      "2      1  \n",
      "3      1  \n",
      "4      1  \n"
     ]
    }
   ],
   "source": [
    "df = pd.read_csv('/input/hotels_reviews.csv')\n",
    "df.shape\n",
    "print(df.label.value_counts())\n",
    "print(df.head())"
   ]
  },
  {
   "cell_type": "markdown",
   "metadata": {},
   "source": [
    "# Data Preprocessing"
   ]
  },
  {
   "cell_type": "code",
   "execution_count": 54,
   "metadata": {},
   "outputs": [],
   "source": [
    "df = df[df['rating'] != 3]   # drop the reviews which rating is 3  \n",
    "\n",
    "#label added all reviews\n",
    "def get_rating(rating):    \n",
    "    rating = int(rating)\n",
    "    if rating > 3:\n",
    "        return '1'\n",
    "    else:\n",
    "        return '0'\n",
    "\n",
    "df['label'] = df['rating'].apply(get_rating)\n",
    "# check duplicate value\n",
    "#duplicates = df.duplicated()\n",
    "#print(duplicates.value_counts()) \n",
    "#checking missing value\n",
    "#print(df.isnull().any().sum())  \n",
    "\n",
    "\n",
    "df['content'] = df.content.apply(lambda x : x.lower())  # all reviews characters converts to lowercase\n",
    "df['content'] = df.content.apply(lambda x: re.sub(r'\\d+','', x))  # remove the numbers in reviews\n",
    "df['content'] = df.content.apply(lambda x: re.sub(r'[^\\w\\s]', ' ',x)) # remove the punctuations in reviews\n",
    "df['content'] = df.content.apply(lambda x: x.strip()) # remove whitespaces\n",
    "df['content'] = df.content.apply(lambda x:word_tokenize(x)) # tokenization\n",
    "stop_words = set(stopwords.words('english'))\n",
    "lemmatizer = WordNetLemmatizer() \n",
    "df['content'] = df.content.apply(lambda x:[lemmatizer.lemmatize(x[i], pos = 'v') for i in range(len(x))])   # lemmatization\n",
    "df['content'] = df.content.apply(lambda x:[x[i] for i in range(len(x)) if not x[i] in stop_words])  # remove stop words\n",
    "clean_words = ['get', 'go', 'say', 'tell', 'ask', 'also', 'would', 'en', 'amsterdam', 'i', 'im', 'ambassade', 'europe', 'tripadvisor', 'germany', 'hungary', 'netherlands', 'marriot', 'marriott', 'hampton', 'hilton', 'america', 'aa', 'april' 'u', 'bahn', 'four', 'seasons', 'gresham', 'president', 'green', 'shangrila', 'shangri', 'budapest', 'buda', 'astoria', 'alexanderplatz',\n",
    "               'brandenburg','sbahn', 'zoo', 'kurfürstendam', 'kudamm', 'berlin', 'australia', 'nd', 'th', 'st', 'mr', 'mrs', 'belfort', 'radisson', 'blu', 'london', 'brugge', 'turkey', 'istanbul', 'bosphorus', 'conrad', 'ıstanbul', 'isg', 'ısg', 'divan', 'asia', 'sheraton', 'atakoy', 'ataköy'\n",
    "               'londonbruggeamsterdam', 'usa', 'september', 'anne', 'frank', 'herengracht', 'basel', 'switzerland', 'european', 'november', 'tmy', 'uk', 'october', 'february', 'december', 'holland', 'schipol', 'amstel', 'singel', 'rotterdam', 'january', 'sultanahmet', 'princess', 'bostanci',\n",
    "               'cambridge', 'england', 'airways', 'victoria', 'lane', 'grosvenor', 'euston', 'square', 'garden', 'court', 'newham', 'oyo', 'somerset', 'spain', 'madrid', 'atlantico', 'plaza', 'espana', 'es', 'melia', 'arosa', 'dome', 'urban', 'tepa', 'nh', 'collection', 'palacio', 'de',\n",
    "               'roosevelt', 'york', 'ritz', 'carlton', 'ritzcarlton', 'doubletree', 'chelsea', 'riverside', 'tower', 'windsor', 'novotel', 'paris', 'france', 'les', 'halles', 'sure', 'western', 'gare', 'du', 'nord', 'normandy', 'chansonniers', 'aston', 'champs', 'elysees', 'ibis', 'ıbis',\n",
    "               'porte', 'montmartre', 'zurich', 'prague', 'ea', 'esprit', 'art', 'deco', 'imperial', 'mandarin', 'oriental', 'botanique', 'stary', 'pivovar', 'al', 'czech', 'republic', 'manthia', 'via', 'veneto', 'mecenate', 'amalfi', 'roma', 'rome', 'italy', 'milton', 'colonna', 'et', \n",
    "               'noir', 'dei', 'massimi', 'olympia', 'xtra', 'crowne', 'schweizerhof', 'widder', 'theres' 'dorint', 'da', 'vinci', 'splendid', 'isnt', 'ısnt', 'arent', 'aint', 'wont', 'didnt', 'shant', 'havent', 'hadnt', 'hadnt', 'hasnt', 'dont', 'wasnt', 'werent', 'doesnt', 'weve', 'couldnt', \n",
    "               'thats', 'ive', 'youre']\n",
    "df['content'] = df.content.apply(lambda x:[x[i] for i in range(len(x)) if not x[i] in clean_words])# remove special names (hotel and city names) and pointless words\n",
    "df.to_csv('preprocessed.csv', index=False)"
   ]
  }
 ],
 "metadata": {
  "kernelspec": {
   "display_name": "Python 3",
   "language": "python",
   "name": "python3"
  },
  "language_info": {
   "codemirror_mode": {
    "name": "ipython",
    "version": 3
   },
   "file_extension": ".py",
   "mimetype": "text/x-python",
   "name": "python",
   "nbconvert_exporter": "python",
   "pygments_lexer": "ipython3",
   "version": "3.8.3"
  }
 },
 "nbformat": 4,
 "nbformat_minor": 4
}
