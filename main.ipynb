{
 "cells": [
  {
   "cell_type": "code",
   "execution_count": null,
   "metadata": {
    "_cell_guid": "b1076dfc-b9ad-4769-8c92-a6c4dae69d19",
    "_uuid": "8f2839f25d086af736a60e9eeb907d3b93b6e0e5"
   },
   "outputs": [],
   "source": [
    "from sklearn.feature_extraction.text import TfidfTransformer\n",
    "from sklearn.feature_extraction.text import TfidfVectorizer\n",
    "import pandas as pd\n",
    "import numpy as np\n",
    "from sklearn.model_selection import train_test_split\n",
    "from sklearn.naive_bayes import MultinomialNB\n",
    "from sklearn import metrics\n",
    "from sklearn.feature_extraction.text import CountVectorizer\n",
    "import csv\n",
    "from sklearn.feature_selection import SelectKBest, chi2, mutual_info_classif\n",
    "from sklearn.svm import SVC \n",
    "from sklearn.ensemble import RandomForestClassifier\n",
    "import matplotlib.pyplot as plt\n",
    "from nltk.corpus import stopwords\n",
    "from nltk.tokenize import word_tokenize\n",
    "from nltk.stem import WordNetLemmatizer\n",
    "import re\n",
    "import string\n",
    "import itertools"
   ]
  },
  {
   "cell_type": "code",
   "execution_count": null,
   "metadata": {
    "_cell_guid": "79c7e3d0-c299-4dcb-8224-4455121ee9b0",
    "_uuid": "d629ff2d2480ee46fbb7e2d37f6b5fab8052498a"
   },
   "outputs": [],
   "source": [
    "df = pd.read_csv('/../preprocessed.csv')\n",
    "df.shape\n",
    "print(df.label.value_counts())\n",
    "print(df.head())"
   ]
  },
  {
   "cell_type": "code",
   "execution_count": null,
   "metadata": {},
   "outputs": [],
   "source": [
    "# Select certain number of negative and postive reviews\n",
    "pos_df=df.loc[df.label==\"1\",:][:6450]\n",
    "neg_df=df.loc[df.label==\"0\",:][:3225]\n",
    "df=pd.concat([pos_df,neg_df],ignore_index=True)\n",
    "df = df.sample(frac=1).reset_index(drop=True)\n",
    "df.shape\n",
    "print(df.label.value_counts())"
   ]
  },
  {
   "cell_type": "code",
   "execution_count": null,
   "metadata": {},
   "outputs": [],
   "source": [
    "# Data Distribution\n",
    "pie_label = [\"1 (Positive)\",\"0 (Negative)\"]\n",
    "pie_colors = [\"yellowgreen\", \"lightskyblue\"]\n",
    "plt.pie(df.label.value_counts(), labels = pie_label, colors=pie_colors, startangle=90, autopct='%.1f%%')\n",
    "plt.show()"
   ]
  },
  {
   "cell_type": "markdown",
   "metadata": {},
   "source": [
    "# Feature Extraction"
   ]
  },
  {
   "cell_type": "code",
   "execution_count": null,
   "metadata": {},
   "outputs": [],
   "source": [
    "#Bag of Words\n",
    "def bow(train, test):\n",
    "    vectorizer = CountVectorizer(analyzer='word')\n",
    "    train_data = vectorizer.fit_transform(train)\n",
    "    test_data = vectorizer.transform(test)\n",
    "    feature_names = vectorizer.get_feature_names()\n",
    "    return train_data, test_data, feature_names"
   ]
  },
  {
   "cell_type": "markdown",
   "metadata": {},
   "source": [
    "# Feature Selection"
   ]
  },
  {
   "cell_type": "code",
   "execution_count": null,
   "metadata": {},
   "outputs": [],
   "source": [
    "# Feature selection according to chi2 method\n",
    "def ch2(x_train, y_train, x_test, feature_names):\n",
    "    ch2 = SelectKBest(chi2, k=10)\n",
    "    x_train_features = ch2.fit_transform(x_train, y_train)\n",
    "    x_test_features = ch2.transform(x_test)\n",
    "    feature_indices = ch2.get_support(indices=True)\n",
    "    selected_features = [feature_names[i] for i in ch2.get_support(indices=True)]\n",
    "    return x_train_features, x_test_features, feature_indices, selected_features"
   ]
  },
  {
   "cell_type": "code",
   "execution_count": null,
   "metadata": {},
   "outputs": [],
   "source": [
    "# Feature selection according to mutual_info_classif\n",
    "def mutual_info(x_train, y_train, x_test, feature_names):\n",
    "    mutual = SelectKBest(mutual_info_classif, k=10)\n",
    "    x_train_features = mutual.fit_transform(x_train, y_train)\n",
    "    x_test_features = mutual.transform(x_test)\n",
    "    feature_indices = mutual.get_support(indices=True)\n",
    "    selected_features = [feature_names[i] for i in mutual.get_support(indices=True)]\n",
    "    return x_train_features, x_test_features, feature_indices, selected_features"
   ]
  },
  {
   "cell_type": "markdown",
   "metadata": {},
   "source": [
    "# TF-IDF Vectorization"
   ]
  },
  {
   "cell_type": "code",
   "execution_count": null,
   "metadata": {},
   "outputs": [],
   "source": [
    "#TFIDF VECTORIZATION\n",
    "def tfidf(train, test):\n",
    "    vectorizer = TfidfTransformer()\n",
    "    train_tfidf = vectorizer.fit_transform(train)\n",
    "    test_tfidf = vectorizer.transform(test)\n",
    "    return train_tfidf, test_tfidf  "
   ]
  },
  {
   "cell_type": "code",
   "execution_count": null,
   "metadata": {},
   "outputs": [],
   "source": [
    "# NO FEATURE SELECTION\n",
    "def nofeatureselection(x_train, x_test, y_train):\n",
    "    #TFIDF\n",
    "    vectorizer = TfidfVectorizer(use_idf=True,\n",
    "                                 analyzer='word',\n",
    "                                 strip_accents='unicode')\n",
    "    tfidf_train = vectorizer.fit_transform(x_train)\n",
    "    tfidf_test = vectorizer.transform(x_test)\n",
    "    feature_names = vectorizer.get_feature_names()\n",
    "    ftrs = SelectKBest(K=10)\n",
    "    x_train_features = ftrs.fit_transform(tfidf_train, y_train)\n",
    "    x_test_features = ftrs.transform(tfidf_test)\n",
    "    feature_names = [feature_names[i] for i in ftrs.get_support(indices=True)]\n",
    "    return x_train_features, x_test_features, feature_names"
   ]
  },
  {
   "cell_type": "markdown",
   "metadata": {},
   "source": [
    "# Machine Learning Classification Algorithms"
   ]
  },
  {
   "cell_type": "code",
   "execution_count": null,
   "metadata": {},
   "outputs": [],
   "source": [
    "#MULTINOMIAL NAIVE BAYES\n",
    "def Multinomial(train_tfidf, y_train, test_tfidf, y_test):\n",
    "    model = MultinomialNB()\n",
    "    model.fit(train_tfidf, y_train)\n",
    "    expected = y_test\n",
    "    predicted = model.predict(test_tfidf)\n",
    "    print(metrics.classification_report(expected, predicted))\n",
    "    print(metrics.confusion_matrix(expected, predicted))\n",
    "    return expected, predicted"
   ]
  },
  {
   "cell_type": "code",
   "execution_count": null,
   "metadata": {},
   "outputs": [],
   "source": [
    "def svm(train_tfidf, y_train, test_tfidf, y_test):\n",
    "    svc = SVC(kernel='linear', C = 1.0)\n",
    "    svc.fit(train_tfidf, y_train)\n",
    "    predicted = svc.predict(test_tfidf)\n",
    "    expected = y_test\n",
    "    print(metrics.classification_report(expected, predicted))\n",
    "    print(metrics.confusion_matrix(expected, predicted))\n",
    "    return expected, predicted"
   ]
  },
  {
   "cell_type": "code",
   "execution_count": null,
   "metadata": {},
   "outputs": [],
   "source": [
    "def randomforest(train_tfidf, y_train, test_tfidf, y_test):\n",
    "    clf = RandomForestClassifier()\n",
    "    clf.fit(train_tfidf, y_train)\n",
    "    expected = y_test\n",
    "    predicted = clf.predict(test_tfidf)\n",
    "    print(metrics.classification_report(expected, predicted))\n",
    "    print(metrics.confusion_matrix(expected, predicted))\n",
    "    return expected, predicted"
   ]
  },
  {
   "cell_type": "code",
   "execution_count": null,
   "metadata": {},
   "outputs": [],
   "source": [
    " # MULTINOMIAL NAIVE BAYES WITH FEATURE SELECTION METHOD CHI SQUARE\n",
    "def naivebayes_withfs(x_train, x_test, y_train, y_test):\n",
    "    # Feature Extraction\n",
    "    x_train, x_test, feature_names = bow(x_train, x_test)\n",
    "    # Feature Selection\n",
    "    x_train_features, x_test_features, feature_indices, selected_features = ch2(x_train, y_train, x_test, feature_names)\n",
    "    # TFIDF - Vecctorization\n",
    "    train_tfidf, test_tfidf = tfidf(x_train_features, x_test_features)\n",
    "    # Model - Multinomial Naive Bayes\n",
    "    print(\"Results of Multinomial Naive Bayes Classifier with Feature Selection\")\n",
    "    print(\"Features:\\n\", selected_features)\n",
    "    expectednb_wfs, predictednb_wfs = Multinomial(train_tfidf, y_train, test_tfidf, y_test)\n",
    "    return expectednb_wfs, predictednb_wfs"
   ]
  },
  {
   "cell_type": "code",
   "execution_count": null,
   "metadata": {},
   "outputs": [],
   "source": [
    "# MULTINOMIAL NAIVE BAYES WITH FEATURE SELECTION METHOD MUTUAL INFORMATION\n",
    "def naivebayes_withfs2(x_train, x_test, y_train, y_test):\n",
    "    # Feature Extraction\n",
    "    x_train, x_test, feature_names = bow(x_train, x_test)\n",
    "    # Feature Selection\n",
    "    # Select best 50 features according to chi square score\n",
    "    x_train_features, x_test_features, feature_indices, selected_features = mutual_info(x_train, y_train, x_test, feature_names)\n",
    "    # TFIDF - Vecctorization\n",
    "    train_tfidf, test_tfidf = tfidf(x_train_features, x_test_features)\n",
    "    # Model - Multinomial Naive Bayes\n",
    "    print(\"Results of Multinomial Naive Bayes Classifier with Feature Selection\")\n",
    "    print(\"Features:\\n\", selected_features)\n",
    "    expectednb_wfs, predictednb_wfs = Multinomial(train_tfidf, y_train, test_tfidf, y_test)\n",
    "    return expectednb_wfs, predictednb_wfs"
   ]
  },
  {
   "cell_type": "code",
   "execution_count": null,
   "metadata": {},
   "outputs": [],
   "source": [
    " # MULTIONAMIAL NAIVE BAYES WITHOUT FEATURE SELECTION\n",
    "def naivebayes_nfs(x_train, x_test, y_train, y_test):\n",
    "    # TF-IDF Vectorization\n",
    "    x_train_features, x_test_features, feature_names = nofeatureselection(x_train, x_test, y_train)\n",
    "    # Model - Multinomial Naive Bayes\n",
    "    print(\"Results of Multinomial Naive Bayes Classifier without Feature Selection\")\n",
    "    print(\"Features:\\n\", feature_names)\n",
    "    expectednb_nfs, predictednb_nfs = Multinomial(x_train_features, y_train, x_test_features, y_test)\n",
    "    return expectednb_nfs, predictednb_nfs"
   ]
  },
  {
   "cell_type": "code",
   "execution_count": null,
   "metadata": {},
   "outputs": [],
   "source": [
    "# SVM WITH FEATURE SELECTION METHOD CHI SQAURE\n",
    "def svm_wfs(x_train, x_test, y_train, y_test):\n",
    "    # Feature Extraction - Bag of Words\n",
    "    x_train, x_test, feature_names = bow(x_train, x_test)\n",
    "    # Feature Selection\n",
    "    x_train_features, x_test_features, feature_indices, selected_features = ch2(x_train, y_train, x_test, feature_names)\n",
    "    # TFIDF - Vecctorization\n",
    "    train_tfidf, test_tfidf = tfidf(x_train_features, x_test_features)\n",
    "    # Model - SVM\n",
    "    print(\"Results of SVM with Feature Selection\")\n",
    "    print(\"Features:\\n\", selected_features)\n",
    "    expectedsvm_wfs, predictedsvm_wfs = svm(train_tfidf, y_train, test_tfidf, y_test)\n",
    "    return expectedsvm_wfs, predictedsvm_wfs"
   ]
  },
  {
   "cell_type": "code",
   "execution_count": null,
   "metadata": {},
   "outputs": [],
   "source": [
    "# SVM WITH FEATURE SELECTION METHOD MUTUAL INFORMATION\n",
    "def svm_wfs2(x_train, x_test, y_train, y_test):\n",
    "    # Feature Extraction\n",
    "    x_train, x_test, feature_names = bow(x_train, x_test)\n",
    "    # Feature Selection\n",
    "    x_train_features, x_test_features, feature_indices, selected_features = mutual_info(x_train, y_train, x_test, feature_names)\n",
    "    # TFIDF - Vectorization\n",
    "    train_tfidf, test_tfidf = tfidf(x_train_features, x_test_features)\n",
    "    # Model - SVM\n",
    "    print(\"Results of SVM with Feature Selection\")\n",
    "    print(\"Features:\\n\", selected_features)\n",
    "    expectedsvm_wfs, predictedsvm_wfs = svm(train_tfidf, y_train, test_tfidf, y_test)\n",
    "    return expectedsvm_wfs, predictedsvm_wfs"
   ]
  },
  {
   "cell_type": "code",
   "execution_count": null,
   "metadata": {},
   "outputs": [],
   "source": [
    "# SVM WITHOUT FEATURE SELECTION\n",
    "def svm_nfs(x_train, x_test, y_train, y_test):\n",
    "    # TFIDF - Vecctorization\n",
    "    x_train_features, x_test_features, feature_names = nofeatureselection(x_train, x_test, y_train)\n",
    "    # Model - SVM\n",
    "    print(\"Results of SVM Classifier without Feature Selection\")\n",
    "    print(\"Features:\\n\", feature_names)\n",
    "    expectedsvm_nfs, predictedsvm_nfs = svm(x_train_features, y_train, x_test_features, y_test)\n",
    "    return expectedsvm_nfs, predictedsvm_nfs"
   ]
  },
  {
   "cell_type": "code",
   "execution_count": null,
   "metadata": {},
   "outputs": [],
   "source": [
    "# RANDOM FOREST CLASSIFIER WITH FEATURE SELECTION METHOD CHI SQUARE\n",
    "def rf_wfs(x_train, x_test, y_train, y_test):\n",
    "    # Feature Extraction\n",
    "    x_train, x_test, feature_names = bow(x_train, x_test)\n",
    "    # Feature Selection\n",
    "    x_train_features, x_test_features, feature_indices, selected_features = ch2(x_train, y_train, x_test, feature_names)\n",
    "    # TFIDF - Vectorization\n",
    "    train_tfidf, test_tfidf = tfidf(x_train_features, x_test_features)\n",
    "    # Model - Random Forest Classifier\n",
    "    print(\"Results of Random Forest Classifier with chi2 Feature Selection\")\n",
    "    print(\"Features:\\n\", selected_features)\n",
    "    expectedrf_wfs, predictedrf_wfs = randomforest(train_tfidf, y_train, test_tfidf, y_test)\n",
    "    return expectedrf_wfs, predictedrf_wfs"
   ]
  },
  {
   "cell_type": "code",
   "execution_count": null,
   "metadata": {},
   "outputs": [],
   "source": [
    "# RANDOM FOREST CLASSIFIER WITH FEATURE SELECTION METHOD MUTUAL INFORMATION\n",
    "def rf_wfs2(x_train, x_test, y_train, y_test):\n",
    "    # Feature Extraction\n",
    "    x_train, x_test, feature_names = bow(x_train, x_test)\n",
    "    # Feature Selection\n",
    "    x_train_features, x_test_features, feature_indices, selected_features = mutual_info(x_train, y_train, x_test, feature_names)\n",
    "    # TFIDF - Vectorization\n",
    "    train_tfidf, test_tfidf = tfidf(x_train_features, x_test_features)\n",
    "    # Model - Random Forest Classifier\n",
    "    print(\"Results of Random Forest Classifier with chi2 Feature Selection\")\n",
    "    print(\"Features:\\n\", selected_features)\n",
    "    expectedrf_wfs, predictedrf_wfs = randomforest(train_tfidf, y_train, test_tfidf, y_test)\n",
    "    return expectedrf_wfs, predictedrf_wfs"
   ]
  },
  {
   "cell_type": "code",
   "execution_count": null,
   "metadata": {},
   "outputs": [],
   "source": [
    "# RANDOM FOREST WITHOUT FEATURE SELECTION\n",
    "def rf_nfs(x_train, x_test, y_train, y_test):\n",
    "    # TFIDF - Vectorization\n",
    "    x_train_features, x_test_features, feature_names = nofeatureselection(x_train, x_test, y_train)\n",
    "    # Model - RANDOM FOREST\n",
    "    print(\"Results of SVM Classifier without Feature Selection\")\n",
    "    print(\"Features:\\n\", feature_names)\n",
    "    expectedrf_nfs, predictedrf_nfs = randomforest(x_train_features, y_train, x_test_features, y_test)\n",
    "    return expectedrf_nfs, predictedrf_nfs"
   ]
  },
  {
   "cell_type": "code",
   "execution_count": null,
   "metadata": {},
   "outputs": [],
   "source": [
    "x = df['content']\n",
    "y = df['label']\n",
    "# Split dataset to training set and testing set\n",
    "x_train, x_test, y_train, y_test = train_test_split(x, y, train_size = 0.80, test_size=0.20, random_state=42)\n",
    "print(df.head())"
   ]
  },
  {
   "cell_type": "markdown",
   "metadata": {},
   "source": [
    "MULTINOMIAL NAIVE BAYES WITH FEATURE SELECTION METHOD CHI SQUARE"
   ]
  },
  {
   "cell_type": "code",
   "execution_count": null,
   "metadata": {},
   "outputs": [],
   "source": [
    "# MULTINOMIAL NAIVE BAYES WITH FEATURE SELECTION METHOD CHI SQUARE\n",
    "expectednb_wfs, predictednb_wfs = naivebayes_withfs(x_train, x_test, y_train, y_test)"
   ]
  },
  {
   "cell_type": "markdown",
   "metadata": {},
   "source": [
    "MULTINOMIAL NAIVE BAYES WITH FEATURE SELECTION METHOD MUTUAL INFO"
   ]
  },
  {
   "cell_type": "code",
   "execution_count": null,
   "metadata": {},
   "outputs": [],
   "source": [
    "# MULTINOMIAL NAIVE BAYES WITH FEATURE SELECTION - MUTUAL INFO\n",
    "expectednb_wfs2, predictednb_wfs2 = naivebayes_withfs2(x_train, x_test, y_train, y_test)"
   ]
  },
  {
   "cell_type": "markdown",
   "metadata": {},
   "source": [
    "MULTIONAMIAL NAIVE BAYES WITHOUT FEATURE SELECTION"
   ]
  },
  {
   "cell_type": "code",
   "execution_count": null,
   "metadata": {},
   "outputs": [],
   "source": [
    "# MULTIONAMIAL NAIVE BAYES WITHOUT FEATURE SELECTION\n",
    "expectednb_nfs, predictednb_nfs = naivebayes_nfs(x_train, x_test, y_train, y_test)"
   ]
  },
  {
   "cell_type": "markdown",
   "metadata": {},
   "source": [
    "SVM WITH FEATURE SELECTION METHOD CHI SQUARE"
   ]
  },
  {
   "cell_type": "code",
   "execution_count": null,
   "metadata": {},
   "outputs": [],
   "source": [
    "# SVM WITH FEATURE SELECTION METHOD CHI SQUARE\n",
    "expectedsvm_wfs, predictedsvm_wfs = svm_wfs(x_train, x_test, y_train, y_test)"
   ]
  },
  {
   "cell_type": "markdown",
   "metadata": {},
   "source": [
    "SVM WITH FEATURE SELECTION METHOD MUTUAL INFORMATION"
   ]
  },
  {
   "cell_type": "code",
   "execution_count": null,
   "metadata": {},
   "outputs": [],
   "source": [
    "# SVM WITH FEATURE SELECTION METHOD MUTUAL INFORMATION\n",
    "expectedsvm_wfs2, predictedsvm_wfs2 = svm_wfs2(x_train, x_test, y_train, y_test)"
   ]
  },
  {
   "cell_type": "markdown",
   "metadata": {},
   "source": [
    "SVM WITHOUT FEATURE SELECTION"
   ]
  },
  {
   "cell_type": "code",
   "execution_count": null,
   "metadata": {},
   "outputs": [],
   "source": [
    "# SVM WITHOUT FEATURE SELECTION\n",
    "expectedsvm_nfs, predictedsvm_nfs = svm_nfs(x_train, x_test, y_train, y_test)"
   ]
  },
  {
   "cell_type": "markdown",
   "metadata": {},
   "source": [
    "RANDOM FOREST CLASSIFIER WITH FEATURE SELECTION METHOD CHI SQUARE"
   ]
  },
  {
   "cell_type": "code",
   "execution_count": null,
   "metadata": {},
   "outputs": [],
   "source": [
    "# RANDOM FOREST CLASSIFIER WITH FEATURE SELECTION METHOD CHI SQUARE\n",
    "expectedrf_wfs, predictedrf_wfs = rf_wfs(x_train, x_test, y_train, y_test)"
   ]
  },
  {
   "cell_type": "markdown",
   "metadata": {},
   "source": [
    "RANDOM FOREST CLASSIFIER WITH FEATURE SELECTION METHOD MUTUAL INFORMATION"
   ]
  },
  {
   "cell_type": "code",
   "execution_count": null,
   "metadata": {},
   "outputs": [],
   "source": [
    "# RANDOM FOREST CLASSIFIER WITH FEATURE SELECTION METHOD MUTUAL INFORMATION\n",
    "expectedrf_wfs2, predictedrf_wfs2 = rf_wfs2(x_train, x_test, y_train, y_test)"
   ]
  },
  {
   "cell_type": "markdown",
   "metadata": {},
   "source": [
    "RANDOM FOREST CLASSIFIER WITHOUT FEATURE SELECTION"
   ]
  },
  {
   "cell_type": "code",
   "execution_count": null,
   "metadata": {},
   "outputs": [],
   "source": [
    "# RANDOM FOREST CLASSIFIER WITHOUT FEATURE SELECTION\n",
    "expectedrf_nfs, predictedrf_nfs = rf_nfs(x_train, x_test, y_train, y_test)"
   ]
  }
 ],
 "metadata": {
  "kernelspec": {
   "display_name": "Python 3",
   "language": "python",
   "name": "python3"
  },
  "language_info": {
   "codemirror_mode": {
    "name": "ipython",
    "version": 3
   },
   "file_extension": ".py",
   "mimetype": "text/x-python",
   "name": "python",
   "nbconvert_exporter": "python",
   "pygments_lexer": "ipython3",
   "version": "3.8.3"
  }
 },
 "nbformat": 4,
 "nbformat_minor": 4
}
